{
 "cells": [
  {
   "cell_type": "code",
   "execution_count": 1,
   "id": "ad466391",
   "metadata": {
    "_cell_guid": "b1076dfc-b9ad-4769-8c92-a6c4dae69d19",
    "_uuid": "8f2839f25d086af736a60e9eeb907d3b93b6e0e5",
    "execution": {
     "iopub.execute_input": "2024-08-16T15:15:50.080874Z",
     "iopub.status.busy": "2024-08-16T15:15:50.080614Z",
     "iopub.status.idle": "2024-08-16T15:15:51.393878Z",
     "shell.execute_reply": "2024-08-16T15:15:51.392842Z"
    },
    "papermill": {
     "duration": 1.325294,
     "end_time": "2024-08-16T15:15:51.396094",
     "exception": false,
     "start_time": "2024-08-16T15:15:50.070800",
     "status": "completed"
    },
    "tags": []
   },
   "outputs": [
    {
     "name": "stdout",
     "output_type": "stream",
     "text": [
      "/kaggle/input/nn-text/sample_submission.csv\n",
      "/kaggle/input/nn-text/train.csv\n",
      "/kaggle/input/nn-text/test.csv\n"
     ]
    }
   ],
   "source": [
    "# This Python 3 environment comes with many helpful analytics libraries installed\n",
    "# It is defined by the kaggle/python Docker image: https://github.com/kaggle/docker-python\n",
    "# For example, here's several helpful packages to load\n",
    "\n",
    "import numpy as np # linear algebra\n",
    "import pandas as pd # data processing, CSV file I/O (e.g. pd.read_csv)\n",
    "\n",
    "# Input data files are available in the read-only \"../input/\" directory\n",
    "# For example, running this (by clicking run or pressing Shift+Enter) will list all files under the input directory\n",
    "\n",
    "import os\n",
    "for dirname, _, filenames in os.walk('/kaggle/input'):\n",
    "    for filename in filenames:\n",
    "        print(os.path.join(dirname, filename))\n",
    "\n",
    "# You can write up to 20GB to the current directory (/kaggle/working/) that gets preserved as output when you create a version using \"Save & Run All\" \n",
    "# You can also write temporary files to /kaggle/temp/, but they won't be saved outside of the current session"
   ]
  },
  {
   "cell_type": "code",
   "execution_count": 2,
   "id": "a0c0f498",
   "metadata": {
    "execution": {
     "iopub.execute_input": "2024-08-16T15:15:51.414859Z",
     "iopub.status.busy": "2024-08-16T15:15:51.414486Z",
     "iopub.status.idle": "2024-08-16T15:15:51.418505Z",
     "shell.execute_reply": "2024-08-16T15:15:51.417681Z"
    },
    "papermill": {
     "duration": 0.015485,
     "end_time": "2024-08-16T15:15:51.420397",
     "exception": false,
     "start_time": "2024-08-16T15:15:51.404912",
     "status": "completed"
    },
    "tags": []
   },
   "outputs": [],
   "source": [
    "import pandas as pd\n",
    "import matplotlib.pyplot as plt\n",
    "import numpy as np"
   ]
  },
  {
   "cell_type": "code",
   "execution_count": 3,
   "id": "8913c4a7",
   "metadata": {
    "execution": {
     "iopub.execute_input": "2024-08-16T15:15:51.438483Z",
     "iopub.status.busy": "2024-08-16T15:15:51.438217Z",
     "iopub.status.idle": "2024-08-16T15:16:00.917013Z",
     "shell.execute_reply": "2024-08-16T15:16:00.916094Z"
    },
    "papermill": {
     "duration": 9.490517,
     "end_time": "2024-08-16T15:16:00.919352",
     "exception": false,
     "start_time": "2024-08-16T15:15:51.428835",
     "status": "completed"
    },
    "tags": []
   },
   "outputs": [],
   "source": [
    "import torch\n",
    "import torch.nn as nn\n",
    "import torch.optim as optim\n",
    "from torch.utils.data import DataLoader, Dataset\n",
    "from sklearn.model_selection import train_test_split\n",
    "from sklearn.preprocessing import LabelEncoder\n",
    "from sklearn.metrics import accuracy_score\n",
    "from collections import Counter\n",
    "import pandas as pd\n",
    "import numpy as np\n",
    "from nltk.tokenize import word_tokenize\n",
    "from nltk.corpus import stopwords\n",
    "from nltk.stem import PorterStemmer\n",
    "import re"
   ]
  },
  {
   "cell_type": "markdown",
   "id": "30c1ee6d",
   "metadata": {
    "papermill": {
     "duration": 0.008205,
     "end_time": "2024-08-16T15:16:00.936421",
     "exception": false,
     "start_time": "2024-08-16T15:16:00.928216",
     "status": "completed"
    },
    "tags": []
   },
   "source": [
    "# **Загрузка данных**"
   ]
  },
  {
   "cell_type": "code",
   "execution_count": 4,
   "id": "1b59b826",
   "metadata": {
    "execution": {
     "iopub.execute_input": "2024-08-16T15:16:00.954817Z",
     "iopub.status.busy": "2024-08-16T15:16:00.953996Z",
     "iopub.status.idle": "2024-08-16T15:16:01.251185Z",
     "shell.execute_reply": "2024-08-16T15:16:01.250379Z"
    },
    "papermill": {
     "duration": 0.308778,
     "end_time": "2024-08-16T15:16:01.253550",
     "exception": false,
     "start_time": "2024-08-16T15:16:00.944772",
     "status": "completed"
    },
    "tags": []
   },
   "outputs": [],
   "source": [
    "train = pd.read_csv('/kaggle/input/nn-text/train.csv')"
   ]
  },
  {
   "cell_type": "code",
   "execution_count": 5,
   "id": "1c4a41b7",
   "metadata": {
    "execution": {
     "iopub.execute_input": "2024-08-16T15:16:01.272200Z",
     "iopub.status.busy": "2024-08-16T15:16:01.271888Z",
     "iopub.status.idle": "2024-08-16T15:16:01.301737Z",
     "shell.execute_reply": "2024-08-16T15:16:01.300983Z"
    },
    "papermill": {
     "duration": 0.041134,
     "end_time": "2024-08-16T15:16:01.303615",
     "exception": false,
     "start_time": "2024-08-16T15:16:01.262481",
     "status": "completed"
    },
    "tags": []
   },
   "outputs": [
    {
     "data": {
      "text/html": [
       "<div>\n",
       "<style scoped>\n",
       "    .dataframe tbody tr th:only-of-type {\n",
       "        vertical-align: middle;\n",
       "    }\n",
       "\n",
       "    .dataframe tbody tr th {\n",
       "        vertical-align: top;\n",
       "    }\n",
       "\n",
       "    .dataframe thead th {\n",
       "        text-align: right;\n",
       "    }\n",
       "</style>\n",
       "<table border=\"1\" class=\"dataframe\">\n",
       "  <thead>\n",
       "    <tr style=\"text-align: right;\">\n",
       "      <th></th>\n",
       "      <th>Review</th>\n",
       "      <th>Rating</th>\n",
       "    </tr>\n",
       "  </thead>\n",
       "  <tbody>\n",
       "    <tr>\n",
       "      <th>0</th>\n",
       "      <td>foliage silhouette perfect european getaway ho...</td>\n",
       "      <td>4</td>\n",
       "    </tr>\n",
       "    <tr>\n",
       "      <th>1</th>\n",
       "      <td>characterized recommendng clean safe hotel hus...</td>\n",
       "      <td>4</td>\n",
       "    </tr>\n",
       "    <tr>\n",
       "      <th>2</th>\n",
       "      <td>seaweed avoidwe spectacular, booked trip bj wh...</td>\n",
       "      <td>5</td>\n",
       "    </tr>\n",
       "    <tr>\n",
       "      <th>3</th>\n",
       "      <td>week__ç_é_ doona ca n't wait return, hotel mag...</td>\n",
       "      <td>5</td>\n",
       "    </tr>\n",
       "    <tr>\n",
       "      <th>4</th>\n",
       "      <td>choppy marched super budget hotel hubby stayed...</td>\n",
       "      <td>5</td>\n",
       "    </tr>\n",
       "    <tr>\n",
       "      <th>...</th>\n",
       "      <td>...</td>\n",
       "      <td>...</td>\n",
       "    </tr>\n",
       "    <tr>\n",
       "      <th>14338</th>\n",
       "      <td>continential rashes great spot, stayed wife ac...</td>\n",
       "      <td>5</td>\n",
       "    </tr>\n",
       "    <tr>\n",
       "      <th>14339</th>\n",
       "      <td>numero profesional best place relaxing holiday...</td>\n",
       "      <td>5</td>\n",
       "    </tr>\n",
       "    <tr>\n",
       "      <th>14340</th>\n",
       "      <td>indoors drafted worth just came home new orlea...</td>\n",
       "      <td>4</td>\n",
       "    </tr>\n",
       "    <tr>\n",
       "      <th>14341</th>\n",
       "      <td>fruitstands confine huge room, stayed week bus...</td>\n",
       "      <td>4</td>\n",
       "    </tr>\n",
       "    <tr>\n",
       "      <th>14342</th>\n",
       "      <td>hiked paddy pure heaven ok hotel really 5 star...</td>\n",
       "      <td>4</td>\n",
       "    </tr>\n",
       "  </tbody>\n",
       "</table>\n",
       "<p>14343 rows × 2 columns</p>\n",
       "</div>"
      ],
      "text/plain": [
       "                                                  Review  Rating\n",
       "0      foliage silhouette perfect european getaway ho...       4\n",
       "1      characterized recommendng clean safe hotel hus...       4\n",
       "2      seaweed avoidwe spectacular, booked trip bj wh...       5\n",
       "3      week__ç_é_ doona ca n't wait return, hotel mag...       5\n",
       "4      choppy marched super budget hotel hubby stayed...       5\n",
       "...                                                  ...     ...\n",
       "14338  continential rashes great spot, stayed wife ac...       5\n",
       "14339  numero profesional best place relaxing holiday...       5\n",
       "14340  indoors drafted worth just came home new orlea...       4\n",
       "14341  fruitstands confine huge room, stayed week bus...       4\n",
       "14342  hiked paddy pure heaven ok hotel really 5 star...       4\n",
       "\n",
       "[14343 rows x 2 columns]"
      ]
     },
     "execution_count": 5,
     "metadata": {},
     "output_type": "execute_result"
    }
   ],
   "source": [
    "del train['Unnamed: 0']\n",
    "train"
   ]
  },
  {
   "cell_type": "code",
   "execution_count": 6,
   "id": "44e304ef",
   "metadata": {
    "execution": {
     "iopub.execute_input": "2024-08-16T15:16:01.322824Z",
     "iopub.status.busy": "2024-08-16T15:16:01.322583Z",
     "iopub.status.idle": "2024-08-16T15:16:01.349336Z",
     "shell.execute_reply": "2024-08-16T15:16:01.348313Z"
    },
    "papermill": {
     "duration": 0.038035,
     "end_time": "2024-08-16T15:16:01.351244",
     "exception": false,
     "start_time": "2024-08-16T15:16:01.313209",
     "status": "completed"
    },
    "tags": []
   },
   "outputs": [
    {
     "name": "stdout",
     "output_type": "stream",
     "text": [
      "<class 'pandas.core.frame.DataFrame'>\n",
      "RangeIndex: 14343 entries, 0 to 14342\n",
      "Data columns (total 2 columns):\n",
      " #   Column  Non-Null Count  Dtype \n",
      "---  ------  --------------  ----- \n",
      " 0   Review  14343 non-null  object\n",
      " 1   Rating  14343 non-null  int64 \n",
      "dtypes: int64(1), object(1)\n",
      "memory usage: 224.2+ KB\n"
     ]
    }
   ],
   "source": [
    "train.info()"
   ]
  },
  {
   "cell_type": "code",
   "execution_count": 7,
   "id": "e3c19817",
   "metadata": {
    "execution": {
     "iopub.execute_input": "2024-08-16T15:16:01.371646Z",
     "iopub.status.busy": "2024-08-16T15:16:01.371385Z",
     "iopub.status.idle": "2024-08-16T15:16:01.375688Z",
     "shell.execute_reply": "2024-08-16T15:16:01.374837Z"
    },
    "papermill": {
     "duration": 0.016321,
     "end_time": "2024-08-16T15:16:01.377623",
     "exception": false,
     "start_time": "2024-08-16T15:16:01.361302",
     "status": "completed"
    },
    "tags": []
   },
   "outputs": [
    {
     "name": "stdout",
     "output_type": "stream",
     "text": [
      "Датасет содержит 14343 строки.\n"
     ]
    }
   ],
   "source": [
    "print(f'Датасет содержит {train.shape[0]} строки.')"
   ]
  },
  {
   "cell_type": "code",
   "execution_count": 8,
   "id": "3bdd1ff3",
   "metadata": {
    "execution": {
     "iopub.execute_input": "2024-08-16T15:16:01.396554Z",
     "iopub.status.busy": "2024-08-16T15:16:01.396085Z",
     "iopub.status.idle": "2024-08-16T15:16:01.744229Z",
     "shell.execute_reply": "2024-08-16T15:16:01.743362Z"
    },
    "papermill": {
     "duration": 0.359857,
     "end_time": "2024-08-16T15:16:01.746229",
     "exception": false,
     "start_time": "2024-08-16T15:16:01.386372",
     "status": "completed"
    },
    "tags": []
   },
   "outputs": [
    {
     "name": "stdout",
     "output_type": "stream",
     "text": [
      "Rating\n",
      "1       995\n",
      "2      1255\n",
      "3      1528\n",
      "4      4226\n",
      "5      6334\n",
      "999       5\n",
      "Name: count, dtype: int64\n"
     ]
    },
    {
     "data": {
      "image/png": "[encoded data removed]",
      "text/plain": [
       "<Figure size 800x600 with 1 Axes>"
      ]
     },
     "metadata": {},
     "output_type": "display_data"
    }
   ],
   "source": [
    "# Вывод распределения значений столбца Rating\n",
    "rating_distribution = train['Rating'].value_counts().sort_index()\n",
    "\n",
    "print(rating_distribution)\n",
    "\n",
    "plt.figure(figsize=(8, 6))\n",
    "rating_distribution.plot(kind='bar', color='teal')\n",
    "plt.title('Распределение значений столбца Rating', fontweight='bold')\n",
    "plt.xlabel('Оценка')\n",
    "plt.ylabel('Количество')\n",
    "plt.xticks(rotation=0)\n",
    "plt.grid(axis='y')\n",
    "plt.show()"
   ]
  },
  {
   "cell_type": "code",
   "execution_count": 9,
   "id": "1c91fd02",
   "metadata": {
    "execution": {
     "iopub.execute_input": "2024-08-16T15:16:01.766102Z",
     "iopub.status.busy": "2024-08-16T15:16:01.765807Z",
     "iopub.status.idle": "2024-08-16T15:16:01.771329Z",
     "shell.execute_reply": "2024-08-16T15:16:01.770506Z"
    },
    "papermill": {
     "duration": 0.017612,
     "end_time": "2024-08-16T15:16:01.773245",
     "exception": false,
     "start_time": "2024-08-16T15:16:01.755633",
     "status": "completed"
    },
    "tags": []
   },
   "outputs": [],
   "source": [
    "# Удаление строк с рейтингом 999 (предполагаю, что они ошибочные)\n",
    "train = train[train['Rating'] != 999]"
   ]
  },
  {
   "cell_type": "code",
   "execution_count": 10,
   "id": "095d5e8f",
   "metadata": {
    "execution": {
     "iopub.execute_input": "2024-08-16T15:16:01.793256Z",
     "iopub.status.busy": "2024-08-16T15:16:01.792678Z",
     "iopub.status.idle": "2024-08-16T15:16:01.898039Z",
     "shell.execute_reply": "2024-08-16T15:16:01.897106Z"
    },
    "papermill": {
     "duration": 0.117536,
     "end_time": "2024-08-16T15:16:01.900048",
     "exception": false,
     "start_time": "2024-08-16T15:16:01.782512",
     "status": "completed"
    },
    "tags": []
   },
   "outputs": [],
   "source": [
    "test = pd.read_csv('/kaggle/input/nn-text/test.csv')"
   ]
  },
  {
   "cell_type": "code",
   "execution_count": 11,
   "id": "09b4c49b",
   "metadata": {
    "execution": {
     "iopub.execute_input": "2024-08-16T15:16:01.920731Z",
     "iopub.status.busy": "2024-08-16T15:16:01.920051Z",
     "iopub.status.idle": "2024-08-16T15:16:01.929921Z",
     "shell.execute_reply": "2024-08-16T15:16:01.929125Z"
    },
    "papermill": {
     "duration": 0.022204,
     "end_time": "2024-08-16T15:16:01.931899",
     "exception": false,
     "start_time": "2024-08-16T15:16:01.909695",
     "status": "completed"
    },
    "tags": []
   },
   "outputs": [
    {
     "data": {
      "text/html": [
       "<div>\n",
       "<style scoped>\n",
       "    .dataframe tbody tr th:only-of-type {\n",
       "        vertical-align: middle;\n",
       "    }\n",
       "\n",
       "    .dataframe tbody tr th {\n",
       "        vertical-align: top;\n",
       "    }\n",
       "\n",
       "    .dataframe thead th {\n",
       "        text-align: right;\n",
       "    }\n",
       "</style>\n",
       "<table border=\"1\" class=\"dataframe\">\n",
       "  <thead>\n",
       "    <tr style=\"text-align: right;\">\n",
       "      <th></th>\n",
       "      <th>index</th>\n",
       "      <th>Review</th>\n",
       "    </tr>\n",
       "  </thead>\n",
       "  <tbody>\n",
       "    <tr>\n",
       "      <th>0</th>\n",
       "      <td>0</td>\n",
       "      <td>saefood bubbas want iwant ro riu wow, riu bamb...</td>\n",
       "    </tr>\n",
       "    <tr>\n",
       "      <th>1</th>\n",
       "      <td>1</td>\n",
       "      <td>raging she__ç_éö enjoyably different just retu...</td>\n",
       "    </tr>\n",
       "    <tr>\n",
       "      <th>2</th>\n",
       "      <td>2</td>\n",
       "      <td>boading terrifying best vacation, husband went...</td>\n",
       "    </tr>\n",
       "    <tr>\n",
       "      <th>3</th>\n",
       "      <td>3</td>\n",
       "      <td>blended enthusastic location location location...</td>\n",
       "    </tr>\n",
       "    <tr>\n",
       "      <th>4</th>\n",
       "      <td>4</td>\n",
       "      <td>peptol insulated love hk good hotel stay noise...</td>\n",
       "    </tr>\n",
       "    <tr>\n",
       "      <th>...</th>\n",
       "      <td>...</td>\n",
       "      <td>...</td>\n",
       "    </tr>\n",
       "    <tr>\n",
       "      <th>6143</th>\n",
       "      <td>6143</td>\n",
       "      <td>particapated activce loved antiche figure husb...</td>\n",
       "    </tr>\n",
       "    <tr>\n",
       "      <th>6144</th>\n",
       "      <td>6144</td>\n",
       "      <td>ubiquitous osmond blissfull stay tegal sari ju...</td>\n",
       "    </tr>\n",
       "    <tr>\n",
       "      <th>6145</th>\n",
       "      <td>6145</td>\n",
       "      <td>rican feeder nice hotel trip seattle wanted st...</td>\n",
       "    </tr>\n",
       "    <tr>\n",
       "      <th>6146</th>\n",
       "      <td>6146</td>\n",
       "      <td>maintanace disembark basic good value chose ho...</td>\n",
       "    </tr>\n",
       "    <tr>\n",
       "      <th>6147</th>\n",
       "      <td>6147</td>\n",
       "      <td>lavender transamerica fairly good time renn, p...</td>\n",
       "    </tr>\n",
       "  </tbody>\n",
       "</table>\n",
       "<p>6148 rows × 2 columns</p>\n",
       "</div>"
      ],
      "text/plain": [
       "      index                                             Review\n",
       "0         0  saefood bubbas want iwant ro riu wow, riu bamb...\n",
       "1         1  raging she__ç_éö enjoyably different just retu...\n",
       "2         2  boading terrifying best vacation, husband went...\n",
       "3         3  blended enthusastic location location location...\n",
       "4         4  peptol insulated love hk good hotel stay noise...\n",
       "...     ...                                                ...\n",
       "6143   6143  particapated activce loved antiche figure husb...\n",
       "6144   6144  ubiquitous osmond blissfull stay tegal sari ju...\n",
       "6145   6145  rican feeder nice hotel trip seattle wanted st...\n",
       "6146   6146  maintanace disembark basic good value chose ho...\n",
       "6147   6147  lavender transamerica fairly good time renn, p...\n",
       "\n",
       "[6148 rows x 2 columns]"
      ]
     },
     "execution_count": 11,
     "metadata": {},
     "output_type": "execute_result"
    }
   ],
   "source": [
    "test"
   ]
  },
  {
   "cell_type": "markdown",
   "id": "443d5f2e",
   "metadata": {
    "papermill": {
     "duration": 0.009248,
     "end_time": "2024-08-16T15:16:01.950870",
     "exception": false,
     "start_time": "2024-08-16T15:16:01.941622",
     "status": "completed"
    },
    "tags": []
   },
   "source": [
    "# **Предобработка данных**"
   ]
  },
  {
   "cell_type": "code",
   "execution_count": 12,
   "id": "82c861ae",
   "metadata": {
    "execution": {
     "iopub.execute_input": "2024-08-16T15:16:01.970907Z",
     "iopub.status.busy": "2024-08-16T15:16:01.970648Z",
     "iopub.status.idle": "2024-08-16T15:16:04.301073Z",
     "shell.execute_reply": "2024-08-16T15:16:04.300328Z"
    },
    "papermill": {
     "duration": 2.342937,
     "end_time": "2024-08-16T15:16:04.303329",
     "exception": false,
     "start_time": "2024-08-16T15:16:01.960392",
     "status": "completed"
    },
    "tags": []
   },
   "outputs": [],
   "source": [
    "from transformers import BertTokenizer, BertModel"
   ]
  },
  {
   "cell_type": "code",
   "execution_count": 13,
   "id": "ea84b192",
   "metadata": {
    "execution": {
     "iopub.execute_input": "2024-08-16T15:16:04.324535Z",
     "iopub.status.busy": "2024-08-16T15:16:04.324039Z",
     "iopub.status.idle": "2024-08-16T15:16:04.339783Z",
     "shell.execute_reply": "2024-08-16T15:16:04.339101Z"
    },
    "papermill": {
     "duration": 0.028347,
     "end_time": "2024-08-16T15:16:04.341664",
     "exception": false,
     "start_time": "2024-08-16T15:16:04.313317",
     "status": "completed"
    },
    "tags": []
   },
   "outputs": [],
   "source": [
    "train_df, test_df = train_test_split(train, test_size=0.2, random_state=42, stratify=train['Rating'])"
   ]
  },
  {
   "cell_type": "code",
   "execution_count": 14,
   "id": "d3e89467",
   "metadata": {
    "execution": {
     "iopub.execute_input": "2024-08-16T15:16:04.361672Z",
     "iopub.status.busy": "2024-08-16T15:16:04.361414Z",
     "iopub.status.idle": "2024-08-16T15:16:04.369340Z",
     "shell.execute_reply": "2024-08-16T15:16:04.368143Z"
    },
    "papermill": {
     "duration": 0.020597,
     "end_time": "2024-08-16T15:16:04.371807",
     "exception": false,
     "start_time": "2024-08-16T15:16:04.351210",
     "status": "completed"
    },
    "tags": []
   },
   "outputs": [],
   "source": [
    "class ReviewsDataset(Dataset):\n",
    "    def __init__(self, data, tokenizer, max_len):\n",
    "        self.data = data\n",
    "        self.tokenizer = tokenizer\n",
    "        self.max_len = max_len\n",
    "\n",
    "    def __len__(self):\n",
    "        return len(self.data)\n",
    "\n",
    "    def __getitem__(self, index):\n",
    "        review = str(self.data.iloc[index, 0])\n",
    "        rating = int(self.data.iloc[index, 1]) - 1  # Rating начинается с 1, но для классификации лучше с 0\n",
    "        \n",
    "        encoding = self.tokenizer.encode_plus(\n",
    "            review,\n",
    "            add_special_tokens=True,\n",
    "            max_length=self.max_len,\n",
    "            return_token_type_ids=False,\n",
    "            pad_to_max_length=True,\n",
    "            return_attention_mask=True,\n",
    "            return_tensors='pt',\n",
    "        )\n",
    "        \n",
    "        return {\n",
    "            'review_text': review,\n",
    "            'input_ids': encoding['input_ids'].flatten(),\n",
    "            'attention_mask': encoding['attention_mask'].flatten(),\n",
    "            'rating': torch.tensor(rating, dtype=torch.long)\n",
    "        }"
   ]
  },
  {
   "cell_type": "markdown",
   "id": "82873299",
   "metadata": {
    "papermill": {
     "duration": 0.009156,
     "end_time": "2024-08-16T15:16:04.390511",
     "exception": false,
     "start_time": "2024-08-16T15:16:04.381355",
     "status": "completed"
    },
    "tags": []
   },
   "source": [
    "**ReviewsDataset** включает в себя методы для токенизации текстов с помощью предобученной модели BERT и подготовки данных для подачи в модель. Основное внимание уделено правильной токенизации, добавлению специальных токенов [CLS] и [SEP], паддингу до фиксированной длины и созданию attention_mask."
   ]
  },
  {
   "cell_type": "code",
   "execution_count": 15,
   "id": "5f702574",
   "metadata": {
    "execution": {
     "iopub.execute_input": "2024-08-16T15:16:04.411283Z",
     "iopub.status.busy": "2024-08-16T15:16:04.410881Z",
     "iopub.status.idle": "2024-08-16T15:16:09.550352Z",
     "shell.execute_reply": "2024-08-16T15:16:09.549335Z"
    },
    "papermill": {
     "duration": 5.152966,
     "end_time": "2024-08-16T15:16:09.552912",
     "exception": false,
     "start_time": "2024-08-16T15:16:04.399946",
     "status": "completed"
    },
    "tags": []
   },
   "outputs": [
    {
     "data": {
      "application/vnd.jupyter.widget-view+json": {
       "model_id": "722745cd107e4f7c819bb2f44973df5d",
       "version_major": 2,
       "version_minor": 0
      },
      "text/plain": [
       "tokenizer_config.json:   0%|          | 0.00/48.0 [00:00<?, ?B/s]"
      ]
     },
     "metadata": {},
     "output_type": "display_data"
    },
    {
     "data": {
      "application/vnd.jupyter.widget-view+json": {
       "model_id": "8b1436486617466086430c9224e85f61",
       "version_major": 2,
       "version_minor": 0
      },
      "text/plain": [
       "vocab.txt:   0%|          | 0.00/232k [00:00<?, ?B/s]"
      ]
     },
     "metadata": {},
     "output_type": "display_data"
    },
    {
     "data": {
      "application/vnd.jupyter.widget-view+json": {
       "model_id": "196e2de464634746949f5e2474c3a135",
       "version_major": 2,
       "version_minor": 0
      },
      "text/plain": [
       "tokenizer.json:   0%|          | 0.00/466k [00:00<?, ?B/s]"
      ]
     },
     "metadata": {},
     "output_type": "display_data"
    },
    {
     "data": {
      "application/vnd.jupyter.widget-view+json": {
       "model_id": "c812ac6ff2904ba5a27cc6bb7f569a85",
       "version_major": 2,
       "version_minor": 0
      },
      "text/plain": [
       "config.json:   0%|          | 0.00/570 [00:00<?, ?B/s]"
      ]
     },
     "metadata": {},
     "output_type": "display_data"
    },
    {
     "data": {
      "application/vnd.jupyter.widget-view+json": {
       "model_id": "015f85d1f7fe4e1ea50ed98b9e940e01",
       "version_major": 2,
       "version_minor": 0
      },
      "text/plain": [
       "model.safetensors:   0%|          | 0.00/440M [00:00<?, ?B/s]"
      ]
     },
     "metadata": {},
     "output_type": "display_data"
    }
   ],
   "source": [
    "# Загрузка модели и токенайзера BERT\n",
    "tokenizer = BertTokenizer.from_pretrained('bert-base-uncased')\n",
    "bert_model = BertModel.from_pretrained('bert-base-uncased')"
   ]
  },
  {
   "cell_type": "code",
   "execution_count": 16,
   "id": "fbd51934",
   "metadata": {
    "execution": {
     "iopub.execute_input": "2024-08-16T15:16:09.575501Z",
     "iopub.status.busy": "2024-08-16T15:16:09.575200Z",
     "iopub.status.idle": "2024-08-16T15:16:09.580653Z",
     "shell.execute_reply": "2024-08-16T15:16:09.579798Z"
    },
    "papermill": {
     "duration": 0.018597,
     "end_time": "2024-08-16T15:16:09.582531",
     "exception": false,
     "start_time": "2024-08-16T15:16:09.563934",
     "status": "completed"
    },
    "tags": []
   },
   "outputs": [],
   "source": [
    "# Создание DataLoader\n",
    "MAX_LEN = 128\n",
    "BATCH_SIZE = 16\n",
    "\n",
    "train_dataset = ReviewsDataset(train_df, tokenizer, MAX_LEN)\n",
    "test_dataset = ReviewsDataset(test_df, tokenizer, MAX_LEN)\n",
    "\n",
    "train_loader = DataLoader(train_dataset, batch_size=BATCH_SIZE, shuffle=True)\n",
    "test_loader = DataLoader(test_dataset, batch_size=BATCH_SIZE)"
   ]
  },
  {
   "cell_type": "code",
   "execution_count": 17,
   "id": "fab09c6a",
   "metadata": {
    "execution": {
     "iopub.execute_input": "2024-08-16T15:16:09.604182Z",
     "iopub.status.busy": "2024-08-16T15:16:09.603887Z",
     "iopub.status.idle": "2024-08-16T15:16:09.609690Z",
     "shell.execute_reply": "2024-08-16T15:16:09.608873Z"
    },
    "papermill": {
     "duration": 0.018693,
     "end_time": "2024-08-16T15:16:09.611588",
     "exception": false,
     "start_time": "2024-08-16T15:16:09.592895",
     "status": "completed"
    },
    "tags": []
   },
   "outputs": [],
   "source": [
    "# Создание классификатора на основе BERT\n",
    "class Classifier(nn.Module):\n",
    "    def __init__(self, bert_model, n_classes):\n",
    "        super(Classifier, self).__init__()\n",
    "        self.bert = bert_model\n",
    "        self.drop = nn.Dropout(p=0.3)\n",
    "        self.out = nn.Linear(self.bert.config.hidden_size, n_classes)\n",
    "        \n",
    "    def forward(self, input_ids, attention_mask):\n",
    "        outputs = self.bert(input_ids=input_ids, attention_mask=attention_mask)\n",
    "        pooled_output = outputs[1]\n",
    "        output = self.drop(pooled_output)\n",
    "        return self.out(output)"
   ]
  },
  {
   "cell_type": "markdown",
   "id": "d80dc55f",
   "metadata": {
    "papermill": {
     "duration": 0.009953,
     "end_time": "2024-08-16T15:16:09.631834",
     "exception": false,
     "start_time": "2024-08-16T15:16:09.621881",
     "status": "completed"
    },
    "tags": []
   },
   "source": [
    "Для извлечения эмбеддингов текстов была использована предобученная модель BERT (bert-base-uncased).\n",
    "\n",
    "После получения эмбеддингов модель BERT использовала полносвязный слой для классификации текстов на основе рейтинга."
   ]
  },
  {
   "cell_type": "code",
   "execution_count": 18,
   "id": "8a28d648",
   "metadata": {
    "execution": {
     "iopub.execute_input": "2024-08-16T15:16:09.653579Z",
     "iopub.status.busy": "2024-08-16T15:16:09.653313Z",
     "iopub.status.idle": "2024-08-16T15:16:11.072548Z",
     "shell.execute_reply": "2024-08-16T15:16:11.071620Z"
    },
    "papermill": {
     "duration": 1.432658,
     "end_time": "2024-08-16T15:16:11.074888",
     "exception": false,
     "start_time": "2024-08-16T15:16:09.642230",
     "status": "completed"
    },
    "tags": []
   },
   "outputs": [],
   "source": [
    "# Инициализация модели, потерь и оптимизатора\n",
    "model = Classifier(bert_model, n_classes=5)\n",
    "model = model.to('cuda')\n",
    "\n",
    "criterion = nn.CrossEntropyLoss()\n",
    "optimizer = optim.Adam(model.parameters(), lr=2e-5)"
   ]
  },
  {
   "cell_type": "code",
   "execution_count": 19,
   "id": "9b04a7ac",
   "metadata": {
    "execution": {
     "iopub.execute_input": "2024-08-16T15:16:11.098476Z",
     "iopub.status.busy": "2024-08-16T15:16:11.098033Z",
     "iopub.status.idle": "2024-08-16T15:53:07.424265Z",
     "shell.execute_reply": "2024-08-16T15:53:07.422672Z"
    },
    "papermill": {
     "duration": 2216.35323,
     "end_time": "2024-08-16T15:53:07.439685",
     "exception": false,
     "start_time": "2024-08-16T15:16:11.086455",
     "status": "completed"
    },
    "tags": []
   },
   "outputs": [
    {
     "name": "stderr",
     "output_type": "stream",
     "text": [
      "Truncation was not explicitly activated but `max_length` is provided a specific value, please use `truncation=True` to explicitly truncate examples to max length. Defaulting to 'longest_first' truncation strategy. If you encode pairs of sequences (GLUE-style) with the tokenizer you can select this strategy more precisely by providing a specific strategy to `truncation`.\n",
      "/opt/conda/lib/python3.10/site-packages/transformers/tokenization_utils_base.py:2760: FutureWarning: The `pad_to_max_length` argument is deprecated and will be removed in a future version, use `padding=True` or `padding='longest'` to pad to the longest sequence in the batch, or use `padding='max_length'` to pad to a max length. In this case, you can give a specific length with `max_length` (e.g. `max_length=45`) or leave max_length to None to pad to the maximal input size of the model (e.g. 512 for Bert).\n",
      "  warnings.warn(\n"
     ]
    },
    {
     "name": "stdout",
     "output_type": "stream",
     "text": [
      "Epoch 1/7, Loss: 0.9340685119273108\n",
      "Epoch 2/7, Loss: 0.7195193051793086\n",
      "Epoch 3/7, Loss: 0.5688079739589571\n",
      "Epoch 4/7, Loss: 0.41702181308671854\n",
      "Epoch 5/7, Loss: 0.26707828116591503\n",
      "Epoch 6/7, Loss: 0.17386987857453037\n",
      "Epoch 7/7, Loss: 0.11242188148348588\n"
     ]
    }
   ],
   "source": [
    "EPOCHS = 7\n",
    "\n",
    "for epoch in range(EPOCHS):\n",
    "    model.train()\n",
    "    total_loss = 0\n",
    "\n",
    "    for batch in train_loader:\n",
    "        input_ids = batch['input_ids'].to('cuda')\n",
    "        attention_mask = batch['attention_mask'].to('cuda')\n",
    "        ratings = batch['rating'].to('cuda')\n",
    "        \n",
    "        optimizer.zero_grad()\n",
    "        outputs = model(input_ids=input_ids, attention_mask=attention_mask)\n",
    "        loss = criterion(outputs, ratings)\n",
    "        loss.backward()\n",
    "        optimizer.step()\n",
    "        \n",
    "        total_loss += loss.item()\n",
    "    \n",
    "    print(f'Epoch {epoch + 1}/{EPOCHS}, Loss: {total_loss / len(train_loader)}')"
   ]
  },
  {
   "cell_type": "code",
   "execution_count": 20,
   "id": "c8cfa037",
   "metadata": {
    "execution": {
     "iopub.execute_input": "2024-08-16T15:53:07.513057Z",
     "iopub.status.busy": "2024-08-16T15:53:07.512020Z",
     "iopub.status.idle": "2024-08-16T15:53:42.341284Z",
     "shell.execute_reply": "2024-08-16T15:53:42.340242Z"
    },
    "papermill": {
     "duration": 34.90641,
     "end_time": "2024-08-16T15:53:42.358584",
     "exception": false,
     "start_time": "2024-08-16T15:53:07.452174",
     "status": "completed"
    },
    "tags": []
   },
   "outputs": [
    {
     "name": "stdout",
     "output_type": "stream",
     "text": [
      "Accuracy: 0.6342\n"
     ]
    }
   ],
   "source": [
    "model.eval()\n",
    "\n",
    "predictions = []\n",
    "true_labels = []\n",
    "\n",
    "with torch.no_grad():\n",
    "    for batch in test_loader:\n",
    "        input_ids = batch['input_ids'].to('cuda')\n",
    "        attention_mask = batch['attention_mask'].to('cuda')\n",
    "        ratings = batch['rating'].to('cuda')\n",
    "        \n",
    "        outputs = model(input_ids=input_ids, attention_mask=attention_mask)\n",
    "        _, preds = torch.max(outputs, dim=1)\n",
    "        \n",
    "        predictions.extend(preds.cpu().numpy())  # Переносим на CPU и конвертируем в numpy\n",
    "        true_labels.extend(ratings.cpu().numpy())  # Переносим на CPU и конвертируем в numpy\n",
    "        \n",
    "accuracy = accuracy_score(true_labels, predictions)\n",
    "print(f'Accuracy: {accuracy:.4f}')"
   ]
  },
  {
   "cell_type": "markdown",
   "id": "96791313",
   "metadata": {
    "papermill": {
     "duration": 0.013169,
     "end_time": "2024-08-16T15:53:42.384608",
     "exception": false,
     "start_time": "2024-08-16T15:53:42.371439",
     "status": "completed"
    },
    "tags": []
   },
   "source": [
    "# **Предобработка тестовых данных и формирование сабмита**"
   ]
  },
  {
   "cell_type": "code",
   "execution_count": 21,
   "id": "b3c40f3f",
   "metadata": {
    "execution": {
     "iopub.execute_input": "2024-08-16T15:53:42.413806Z",
     "iopub.status.busy": "2024-08-16T15:53:42.413415Z",
     "iopub.status.idle": "2024-08-16T15:53:42.422310Z",
     "shell.execute_reply": "2024-08-16T15:53:42.421338Z"
    },
    "papermill": {
     "duration": 0.025804,
     "end_time": "2024-08-16T15:53:42.424728",
     "exception": false,
     "start_time": "2024-08-16T15:53:42.398924",
     "status": "completed"
    },
    "tags": []
   },
   "outputs": [],
   "source": [
    "class ReviewsTestDataset(Dataset):\n",
    "    def __init__(self, data, tokenizer, max_len):\n",
    "        self.data = data\n",
    "        self.tokenizer = tokenizer\n",
    "        self.max_len = max_len\n",
    "\n",
    "    def __len__(self):\n",
    "        return len(self.data)\n",
    "\n",
    "    def __getitem__(self, index):\n",
    "        review = str(self.data.iloc[index, 1])\n",
    "        \n",
    "        encoding = self.tokenizer.encode_plus(\n",
    "            review,\n",
    "            add_special_tokens=True,\n",
    "            max_length=self.max_len,\n",
    "            return_token_type_ids=False,\n",
    "            padding='max_length',\n",
    "            truncation=True,  # Обязательно добавляем обрезку\n",
    "            return_attention_mask=True,\n",
    "            return_tensors='pt',\n",
    "        )\n",
    "        \n",
    "        return {\n",
    "            'review_text': review,\n",
    "            'input_ids': encoding['input_ids'].flatten(),\n",
    "            'attention_mask': encoding['attention_mask'].flatten()\n",
    "        }"
   ]
  },
  {
   "cell_type": "markdown",
   "id": "9690398e",
   "metadata": {
    "papermill": {
     "duration": 0.012895,
     "end_time": "2024-08-16T15:53:42.450459",
     "exception": false,
     "start_time": "2024-08-16T15:53:42.437564",
     "status": "completed"
    },
    "tags": []
   },
   "source": [
    "Был создан отдельный класс **ReviewsTestDataset**, который не требует наличия целевой переменной. \n",
    "\n",
    "Важно, чтобы все предложения в батче имели одинаковую длину, что достигается путем паддинга до фиксированной длины (max_len) и использования обрезки (truncation), если текст превышает максимальную длину."
   ]
  },
  {
   "cell_type": "code",
   "execution_count": 22,
   "id": "188bac34",
   "metadata": {
    "execution": {
     "iopub.execute_input": "2024-08-16T15:53:42.478566Z",
     "iopub.status.busy": "2024-08-16T15:53:42.477803Z",
     "iopub.status.idle": "2024-08-16T15:53:42.483024Z",
     "shell.execute_reply": "2024-08-16T15:53:42.482042Z"
    },
    "papermill": {
     "duration": 0.021204,
     "end_time": "2024-08-16T15:53:42.485060",
     "exception": false,
     "start_time": "2024-08-16T15:53:42.463856",
     "status": "completed"
    },
    "tags": []
   },
   "outputs": [],
   "source": [
    "# Создание DataLoader для тестового набора данных\n",
    "test_dataset = ReviewsTestDataset(test, tokenizer, MAX_LEN)\n",
    "test_loader = DataLoader(test_dataset, batch_size=BATCH_SIZE)"
   ]
  },
  {
   "cell_type": "code",
   "execution_count": 23,
   "id": "b30465f0",
   "metadata": {
    "execution": {
     "iopub.execute_input": "2024-08-16T15:53:42.511844Z",
     "iopub.status.busy": "2024-08-16T15:53:42.511491Z",
     "iopub.status.idle": "2024-08-16T15:53:42.518108Z",
     "shell.execute_reply": "2024-08-16T15:53:42.517071Z"
    },
    "papermill": {
     "duration": 0.022244,
     "end_time": "2024-08-16T15:53:42.520288",
     "exception": false,
     "start_time": "2024-08-16T15:53:42.498044",
     "status": "completed"
    },
    "tags": []
   },
   "outputs": [],
   "source": [
    "# Функция для предсказания рейтингов на тестовом наборе\n",
    "def predict(model, data_loader):\n",
    "    model.eval()\n",
    "    predictions = []\n",
    "    with torch.no_grad():\n",
    "        for batch in data_loader:\n",
    "            input_ids = batch['input_ids'].to('cuda')\n",
    "            attention_mask = batch['attention_mask'].to('cuda')\n",
    "            \n",
    "            outputs = model(input_ids=input_ids, attention_mask=attention_mask)\n",
    "            _, preds = torch.max(outputs, dim=1)\n",
    "            \n",
    "            predictions.extend(preds.cpu().numpy())\n",
    "    \n",
    "    return predictions"
   ]
  },
  {
   "cell_type": "code",
   "execution_count": 24,
   "id": "fc67b068",
   "metadata": {
    "execution": {
     "iopub.execute_input": "2024-08-16T15:53:42.545963Z",
     "iopub.status.busy": "2024-08-16T15:53:42.545669Z",
     "iopub.status.idle": "2024-08-16T15:54:57.146201Z",
     "shell.execute_reply": "2024-08-16T15:54:57.145305Z"
    },
    "papermill": {
     "duration": 74.616242,
     "end_time": "2024-08-16T15:54:57.148736",
     "exception": false,
     "start_time": "2024-08-16T15:53:42.532494",
     "status": "completed"
    },
    "tags": []
   },
   "outputs": [],
   "source": [
    "test_predictions = predict(model, test_loader)"
   ]
  },
  {
   "cell_type": "code",
   "execution_count": 25,
   "id": "b797b9d4",
   "metadata": {
    "execution": {
     "iopub.execute_input": "2024-08-16T15:54:57.174211Z",
     "iopub.status.busy": "2024-08-16T15:54:57.173892Z",
     "iopub.status.idle": "2024-08-16T15:54:57.218046Z",
     "shell.execute_reply": "2024-08-16T15:54:57.217340Z"
    },
    "papermill": {
     "duration": 0.058647,
     "end_time": "2024-08-16T15:54:57.220046",
     "exception": false,
     "start_time": "2024-08-16T15:54:57.161399",
     "status": "completed"
    },
    "tags": []
   },
   "outputs": [],
   "source": [
    "submission_df = pd.DataFrame({\n",
    "    'index': test['index'],\n",
    "    'Rating': [pred + 1 for pred in test_predictions]\n",
    "})\n",
    "\n",
    "submission_df.to_csv('submission_1.csv', index=False)"
   ]
  },
  {
   "cell_type": "code",
   "execution_count": 26,
   "id": "55e7435e",
   "metadata": {
    "execution": {
     "iopub.execute_input": "2024-08-16T15:54:57.247494Z",
     "iopub.status.busy": "2024-08-16T15:54:57.247121Z",
     "iopub.status.idle": "2024-08-16T15:54:57.268123Z",
     "shell.execute_reply": "2024-08-16T15:54:57.266960Z"
    },
    "papermill": {
     "duration": 0.037405,
     "end_time": "2024-08-16T15:54:57.270320",
     "exception": false,
     "start_time": "2024-08-16T15:54:57.232915",
     "status": "completed"
    },
    "tags": []
   },
   "outputs": [
    {
     "data": {
      "text/html": [
       "<div>\n",
       "<style scoped>\n",
       "    .dataframe tbody tr th:only-of-type {\n",
       "        vertical-align: middle;\n",
       "    }\n",
       "\n",
       "    .dataframe tbody tr th {\n",
       "        vertical-align: top;\n",
       "    }\n",
       "\n",
       "    .dataframe thead th {\n",
       "        text-align: right;\n",
       "    }\n",
       "</style>\n",
       "<table border=\"1\" class=\"dataframe\">\n",
       "  <thead>\n",
       "    <tr style=\"text-align: right;\">\n",
       "      <th></th>\n",
       "      <th>index</th>\n",
       "      <th>Rating</th>\n",
       "    </tr>\n",
       "  </thead>\n",
       "  <tbody>\n",
       "    <tr>\n",
       "      <th>0</th>\n",
       "      <td>0</td>\n",
       "      <td>5</td>\n",
       "    </tr>\n",
       "    <tr>\n",
       "      <th>1</th>\n",
       "      <td>1</td>\n",
       "      <td>4</td>\n",
       "    </tr>\n",
       "    <tr>\n",
       "      <th>2</th>\n",
       "      <td>2</td>\n",
       "      <td>5</td>\n",
       "    </tr>\n",
       "    <tr>\n",
       "      <th>3</th>\n",
       "      <td>3</td>\n",
       "      <td>5</td>\n",
       "    </tr>\n",
       "    <tr>\n",
       "      <th>4</th>\n",
       "      <td>4</td>\n",
       "      <td>4</td>\n",
       "    </tr>\n",
       "    <tr>\n",
       "      <th>...</th>\n",
       "      <td>...</td>\n",
       "      <td>...</td>\n",
       "    </tr>\n",
       "    <tr>\n",
       "      <th>6143</th>\n",
       "      <td>6143</td>\n",
       "      <td>5</td>\n",
       "    </tr>\n",
       "    <tr>\n",
       "      <th>6144</th>\n",
       "      <td>6144</td>\n",
       "      <td>5</td>\n",
       "    </tr>\n",
       "    <tr>\n",
       "      <th>6145</th>\n",
       "      <td>6145</td>\n",
       "      <td>4</td>\n",
       "    </tr>\n",
       "    <tr>\n",
       "      <th>6146</th>\n",
       "      <td>6146</td>\n",
       "      <td>3</td>\n",
       "    </tr>\n",
       "    <tr>\n",
       "      <th>6147</th>\n",
       "      <td>6147</td>\n",
       "      <td>4</td>\n",
       "    </tr>\n",
       "  </tbody>\n",
       "</table>\n",
       "<p>6148 rows × 2 columns</p>\n",
       "</div>"
      ],
      "text/plain": [
       "      index  Rating\n",
       "0         0       5\n",
       "1         1       4\n",
       "2         2       5\n",
       "3         3       5\n",
       "4         4       4\n",
       "...     ...     ...\n",
       "6143   6143       5\n",
       "6144   6144       5\n",
       "6145   6145       4\n",
       "6146   6146       3\n",
       "6147   6147       4\n",
       "\n",
       "[6148 rows x 2 columns]"
      ]
     },
     "execution_count": 26,
     "metadata": {},
     "output_type": "execute_result"
    }
   ],
   "source": [
    "submission_df"
   ]
  },
  {
   "cell_type": "markdown",
   "id": "44d140d3",
   "metadata": {
    "papermill": {
     "duration": 0.012278,
     "end_time": "2024-08-16T15:54:57.295938",
     "exception": false,
     "start_time": "2024-08-16T15:54:57.283660",
     "status": "completed"
    },
    "tags": []
   },
   "source": [
    "Скор после загрузки сабмита: **0.638162**"
   ]
  }
 ],
 "metadata": {
  "kaggle": {
   "accelerator": "nvidiaTeslaT4",
   "dataSources": [
    {
     "datasetId": 5552609,
     "sourceId": 9185851,
     "sourceType": "datasetVersion"
    }
   ],
   "dockerImageVersionId": 30746,
   "isGpuEnabled": true,
   "isInternetEnabled": true,
   "language": "python",
   "sourceType": "notebook"
  },
  "kernelspec": {
   "display_name": "Python 3",
   "language": "python",
   "name": "python3"
  },
  "language_info": {
   "codemirror_mode": {
    "name": "ipython",
    "version": 3
   },
   "file_extension": ".py",
   "mimetype": "text/x-python",
   "name": "python",
   "nbconvert_exporter": "python",
   "pygments_lexer": "ipython3",
   "version": "3.10.13"
  },
  "papermill": {
   "default_parameters": {},
   "duration": 2353.902535,
   "end_time": "2024-08-16T15:55:00.176660",
   "environment_variables": {},
   "exception": null,
   "input_path": "__notebook__.ipynb",
   "output_path": "__notebook__.ipynb",
   "parameters": {},
   "start_time": "2024-08-16T15:15:46.274125",
   "version": "2.5.0"
  },
  "widgets": {
   "application/vnd.jupyter.widget-state+json": {
    "state": {
     "015f85d1f7fe4e1ea50ed98b9e940e01": {
      "model_module": "@jupyter-widgets/controls",
      "model_module_version": "1.5.0",
      "model_name": "HBoxModel",
      "state": {
       "_dom_classes": [],
       "_model_module": "@jupyter-widgets/controls",
       "_model_module_version": "1.5.0",
       "_model_name": "HBoxModel",
       "_view_count": null,
       "_view_module": "@jupyter-widgets/controls",
       "_view_module_version": "1.5.0",
       "_view_name": "HBoxView",
       "box_style": "",
       "children": [
        "IPY_MODEL_219ed590d5954dc7a73e8e87a6bf784c",
        "IPY_MODEL_09cc15f5a66e4216888ecc1171514aba",
        "IPY_MODEL_9ae0331d3f5c46ce8a94fc0363b669f3"
       ],
       "layout": "IPY_MODEL_236513464a1d417fa884757ba5688bd3"
      }
     },
     "09cc15f5a66e4216888ecc1171514aba": {
      "model_module": "@jupyter-widgets/controls",
      "model_module_version": "1.5.0",
      "model_name": "FloatProgressModel",
      "state": {
       "_dom_classes": [],
       "_model_module": "@jupyter-widgets/controls",
       "_model_module_version": "1.5.0",
       "_model_name": "FloatProgressModel",
       "_view_count": null,
       "_view_module": "@jupyter-widgets/controls",
       "_view_module_version": "1.5.0",
       "_view_name": "ProgressView",
       "bar_style": "success",
       "description": "",
       "description_tooltip": null,
       "layout": "IPY_MODEL_82540ac407484cfb87726963f9c66e8c",
       "max": 440449768,
       "min": 0,
       "orientation": "horizontal",
       "style": "IPY_MODEL_d0a3da9f3b8c46099d7b8cf65c1677db",
       "value": 440449768
      }
     },
     "103a6a271883443197e2a95cc8c359cf": {
      "model_module": "@jupyter-widgets/controls",
      "model_module_version": "1.5.0",
      "model_name": "DescriptionStyleModel",
      "state": {
       "_model_module": "@jupyter-widgets/controls",
       "_model_module_version": "1.5.0",
       "_model_name": "DescriptionStyleModel",
       "_view_count": null,
       "_view_module": "@jupyter-widgets/base",
       "_view_module_version": "1.2.0",
       "_view_name": "StyleView",
       "description_width": ""
      }
     },
     "130d5b8d55b0471e857f12c2ac174ef8": {
      "model_module": "@jupyter-widgets/base",
      "model_module_version": "1.2.0",
      "model_name": "LayoutModel",
      "state": {
       "_model_module": "@jupyter-widgets/base",
       "_model_module_version": "1.2.0",
       "_model_name": "LayoutModel",
       "_view_count": null,
       "_view_module": "@jupyter-widgets/base",
       "_view_module_version": "1.2.0",
       "_view_name": "LayoutView",
       "align_content": null,
       "align_items": null,
       "align_self": null,
       "border": null,
       "bottom": null,
       "display": null,
       "flex": null,
       "flex_flow": null,
       "grid_area": null,
       "grid_auto_columns": null,
       "grid_auto_flow": null,
       "grid_auto_rows": null,
       "grid_column": null,
       "grid_gap": null,
       "grid_row": null,
       "grid_template_areas": null,
       "grid_template_columns": null,
       "grid_template_rows": null,
       "height": null,
       "justify_content": null,
       "justify_items": null,
       "left": null,
       "margin": null,
       "max_height": null,
       "max_width": null,
       "min_height": null,
       "min_width": null,
       "object_fit": null,
       "object_position": null,
       "order": null,
       "overflow": null,
       "overflow_x": null,
       "overflow_y": null,
       "padding": null,
       "right": null,
       "top": null,
       "visibility": null,
       "width": null
      }
     },
     "196e2de464634746949f5e2474c3a135": {
      "model_module": "@jupyter-widgets/controls",
      "model_module_version": "1.5.0",
      "model_name": "HBoxModel",
      "state": {
       "_dom_classes": [],
       "_model_module": "@jupyter-widgets/controls",
       "_model_module_version": "1.5.0",
       "_model_name": "HBoxModel",
       "_view_count": null,
       "_view_module": "@jupyter-widgets/controls",
       "_view_module_version": "1.5.0",
       "_view_name": "HBoxView",
       "box_style": "",
       "children": [
        "IPY_MODEL_f88fe44ce9ca4f7a8195f69b02e625d6",
        "IPY_MODEL_c72a26bc53ed44efb9b4d9b12db426c6",
        "IPY_MODEL_dd43e7de31864bd783a62027f215763a"
       ],
       "layout": "IPY_MODEL_9a3db87293674593a45c3fcad1a0bf28"
      }
     },
     "1a3580a1d9a34b529948a11954eb0846": {
      "model_module": "@jupyter-widgets/base",
      "model_module_version": "1.2.0",
      "model_name": "LayoutModel",
      "state": {
       "_model_module": "@jupyter-widgets/base",
       "_model_module_version": "1.2.0",
       "_model_name": "LayoutModel",
       "_view_count": null,
       "_view_module": "@jupyter-widgets/base",
       "_view_module_version": "1.2.0",
       "_view_name": "LayoutView",
       "align_content": null,
       "align_items": null,
       "align_self": null,
       "border": null,
       "bottom": null,
       "display": null,
       "flex": null,
       "flex_flow": null,
       "grid_area": null,
       "grid_auto_columns": null,
       "grid_auto_flow": null,
       "grid_auto_rows": null,
       "grid_column": null,
       "grid_gap": null,
       "grid_row": null,
       "grid_template_areas": null,
       "grid_template_columns": null,
       "grid_template_rows": null,
       "height": null,
       "justify_content": null,
       "justify_items": null,
       "left": null,
       "margin": null,
       "max_height": null,
       "max_width": null,
       "min_height": null,
       "min_width": null,
       "object_fit": null,
       "object_position": null,
       "order": null,
       "overflow": null,
       "overflow_x": null,
       "overflow_y": null,
       "padding": null,
       "right": null,
       "top": null,
       "visibility": null,
       "width": null
      }
     },
     "1e1b1182c1b74f93b33d2806a9c7b5fb": {
      "model_module": "@jupyter-widgets/base",
      "model_module_version": "1.2.0",
      "model_name": "LayoutModel",
      "state": {
       "_model_module": "@jupyter-widgets/base",
       "_model_module_version": "1.2.0",
       "_model_name": "LayoutModel",
       "_view_count": null,
       "_view_module": "@jupyter-widgets/base",
       "_view_module_version": "1.2.0",
       "_view_name": "LayoutView",
       "align_content": null,
       "align_items": null,
       "align_self": null,
       "border": null,
       "bottom": null,
       "display": null,
       "flex": null,
       "flex_flow": null,
       "grid_area": null,
       "grid_auto_columns": null,
       "grid_auto_flow": null,
       "grid_auto_rows": null,
       "grid_column": null,
       "grid_gap": null,
       "grid_row": null,
       "grid_template_areas": null,
       "grid_template_columns": null,
       "grid_template_rows": null,
       "height": null,
       "justify_content": null,
       "justify_items": null,
       "left": null,
       "margin": null,
       "max_height": null,
       "max_width": null,
       "min_height": null,
       "min_width": null,
       "object_fit": null,
       "object_position": null,
       "order": null,
       "overflow": null,
       "overflow_x": null,
       "overflow_y": null,
       "padding": null,
       "right": null,
       "top": null,
       "visibility": null,
       "width": null
      }
     },
     "219ed590d5954dc7a73e8e87a6bf784c": {
      "model_module": "@jupyter-widgets/controls",
      "model_module_version": "1.5.0",
      "model_name": "HTMLModel",
      "state": {
       "_dom_classes": [],
       "_model_module": "@jupyter-widgets/controls",
       "_model_module_version": "1.5.0",
       "_model_name": "HTMLModel",
       "_view_count": null,
       "_view_module": "@jupyter-widgets/controls",
       "_view_module_version": "1.5.0",
       "_view_name": "HTMLView",
       "description": "",
       "description_tooltip": null,
       "layout": "IPY_MODEL_f0771b6e653646da901f285cb5743254",
       "placeholder": "​",
       "style": "IPY_MODEL_9004e346873a47e7b664705eb72cc412",
       "value": "model.safetensors: 100%"
      }
     },
     "236513464a1d417fa884757ba5688bd3": {
      "model_module": "@jupyter-widgets/base",
      "model_module_version": "1.2.0",
      "model_name": "LayoutModel",
      "state": {
       "_model_module": "@jupyter-widgets/base",
       "_model_module_version": "1.2.0",
       "_model_name": "LayoutModel",
       "_view_count": null,
       "_view_module": "@jupyter-widgets/base",
       "_view_module_version": "1.2.0",
       "_view_name": "LayoutView",
       "align_content": null,
       "align_items": null,
       "align_self": null,
       "border": null,
       "bottom": null,
       "display": null,
       "flex": null,
       "flex_flow": null,
       "grid_area": null,
       "grid_auto_columns": null,
       "grid_auto_flow": null,
       "grid_auto_rows": null,
       "grid_column": null,
       "grid_gap": null,
       "grid_row": null,
       "grid_template_areas": null,
       "grid_template_columns": null,
       "grid_template_rows": null,
       "height": null,
       "justify_content": null,
       "justify_items": null,
       "left": null,
       "margin": null,
       "max_height": null,
       "max_width": null,
       "min_height": null,
       "min_width": null,
       "object_fit": null,
       "object_position": null,
       "order": null,
       "overflow": null,
       "overflow_x": null,
       "overflow_y": null,
       "padding": null,
       "right": null,
       "top": null,
       "visibility": null,
       "width": null
      }
     },
     "2daefdf5119c4140a01f59d3f7eb09e6": {
      "model_module": "@jupyter-widgets/controls",
      "model_module_version": "1.5.0",
      "model_name": "DescriptionStyleModel",
      "state": {
       "_model_module": "@jupyter-widgets/controls",
       "_model_module_version": "1.5.0",
       "_model_name": "DescriptionStyleModel",
       "_view_count": null,
       "_view_module": "@jupyter-widgets/base",
       "_view_module_version": "1.2.0",
       "_view_name": "StyleView",
       "description_width": ""
      }
     },
     "3378a3162aa748869bc8a76ae015dbf7": {
      "model_module": "@jupyter-widgets/base",
      "model_module_version": "1.2.0",
      "model_name": "LayoutModel",
      "state": {
       "_model_module": "@jupyter-widgets/base",
       "_model_module_version": "1.2.0",
       "_model_name": "LayoutModel",
       "_view_count": null,
       "_view_module": "@jupyter-widgets/base",
       "_view_module_version": "1.2.0",
       "_view_name": "LayoutView",
       "align_content": null,
       "align_items": null,
       "align_self": null,
       "border": null,
       "bottom": null,
       "display": null,
       "flex": null,
       "flex_flow": null,
       "grid_area": null,
       "grid_auto_columns": null,
       "grid_auto_flow": null,
       "grid_auto_rows": null,
       "grid_column": null,
       "grid_gap": null,
       "grid_row": null,
       "grid_template_areas": null,
       "grid_template_columns": null,
       "grid_template_rows": null,
       "height": null,
       "justify_content": null,
       "justify_items": null,
       "left": null,
       "margin": null,
       "max_height": null,
       "max_width": null,
       "min_height": null,
       "min_width": null,
       "object_fit": null,
       "object_position": null,
       "order": null,
       "overflow": null,
       "overflow_x": null,
       "overflow_y": null,
       "padding": null,
       "right": null,
       "top": null,
       "visibility": null,
       "width": null
      }
     },
     "3403d160df3649b5a8489ad8a8158dc0": {
      "model_module": "@jupyter-widgets/base",
      "model_module_version": "1.2.0",
      "model_name": "LayoutModel",
      "state": {
       "_model_module": "@jupyter-widgets/base",
       "_model_module_version": "1.2.0",
       "_model_name": "LayoutModel",
       "_view_count": null,
       "_view_module": "@jupyter-widgets/base",
       "_view_module_version": "1.2.0",
       "_view_name": "LayoutView",
       "align_content": null,
       "align_items": null,
       "align_self": null,
       "border": null,
       "bottom": null,
       "display": null,
       "flex": null,
       "flex_flow": null,
       "grid_area": null,
       "grid_auto_columns": null,
       "grid_auto_flow": null,
       "grid_auto_rows": null,
       "grid_column": null,
       "grid_gap": null,
       "grid_row": null,
       "grid_template_areas": null,
       "grid_template_columns": null,
       "grid_template_rows": null,
       "height": null,
       "justify_content": null,
       "justify_items": null,
       "left": null,
       "margin": null,
       "max_height": null,
       "max_width": null,
       "min_height": null,
       "min_width": null,
       "object_fit": null,
       "object_position": null,
       "order": null,
       "overflow": null,
       "overflow_x": null,
       "overflow_y": null,
       "padding": null,
       "right": null,
       "top": null,
       "visibility": null,
       "width": null
      }
     },
     "36a14e344b554157aa992a742af2bfb3": {
      "model_module": "@jupyter-widgets/base",
      "model_module_version": "1.2.0",
      "model_name": "LayoutModel",
      "state": {
       "_model_module": "@jupyter-widgets/base",
       "_model_module_version": "1.2.0",
       "_model_name": "LayoutModel",
       "_view_count": null,
       "_view_module": "@jupyter-widgets/base",
       "_view_module_version": "1.2.0",
       "_view_name": "LayoutView",
       "align_content": null,
       "align_items": null,
       "align_self": null,
       "border": null,
       "bottom": null,
       "display": null,
       "flex": null,
       "flex_flow": null,
       "grid_area": null,
       "grid_auto_columns": null,
       "grid_auto_flow": null,
       "grid_auto_rows": null,
       "grid_column": null,
       "grid_gap": null,
       "grid_row": null,
       "grid_template_areas": null,
       "grid_template_columns": null,
       "grid_template_rows": null,
       "height": null,
       "justify_content": null,
       "justify_items": null,
       "left": null,
       "margin": null,
       "max_height": null,
       "max_width": null,
       "min_height": null,
       "min_width": null,
       "object_fit": null,
       "object_position": null,
       "order": null,
       "overflow": null,
       "overflow_x": null,
       "overflow_y": null,
       "padding": null,
       "right": null,
       "top": null,
       "visibility": null,
       "width": null
      }
     },
     "3a132254523f4154a58d16769d85bf11": {
      "model_module": "@jupyter-widgets/controls",
      "model_module_version": "1.5.0",
      "model_name": "ProgressStyleModel",
      "state": {
       "_model_module": "@jupyter-widgets/controls",
       "_model_module_version": "1.5.0",
       "_model_name": "ProgressStyleModel",
       "_view_count": null,
       "_view_module": "@jupyter-widgets/base",
       "_view_module_version": "1.2.0",
       "_view_name": "StyleView",
       "bar_color": null,
       "description_width": ""
      }
     },
     "3bb36e2e00204c95b23e8fafb20b405f": {
      "model_module": "@jupyter-widgets/controls",
      "model_module_version": "1.5.0",
      "model_name": "DescriptionStyleModel",
      "state": {
       "_model_module": "@jupyter-widgets/controls",
       "_model_module_version": "1.5.0",
       "_model_name": "DescriptionStyleModel",
       "_view_count": null,
       "_view_module": "@jupyter-widgets/base",
       "_view_module_version": "1.2.0",
       "_view_name": "StyleView",
       "description_width": ""
      }
     },
     "4d4f24494d7d40d0880dca78a61ebfda": {
      "model_module": "@jupyter-widgets/controls",
      "model_module_version": "1.5.0",
      "model_name": "ProgressStyleModel",
      "state": {
       "_model_module": "@jupyter-widgets/controls",
       "_model_module_version": "1.5.0",
       "_model_name": "ProgressStyleModel",
       "_view_count": null,
       "_view_module": "@jupyter-widgets/base",
       "_view_module_version": "1.2.0",
       "_view_name": "StyleView",
       "bar_color": null,
       "description_width": ""
      }
     },
     "508b528b4304464ea6ec09b073aa6722": {
      "model_module": "@jupyter-widgets/controls",
      "model_module_version": "1.5.0",
      "model_name": "HTMLModel",
      "state": {
       "_dom_classes": [],
       "_model_module": "@jupyter-widgets/controls",
       "_model_module_version": "1.5.0",
       "_model_name": "HTMLModel",
       "_view_count": null,
       "_view_module": "@jupyter-widgets/controls",
       "_view_module_version": "1.5.0",
       "_view_name": "HTMLView",
       "description": "",
       "description_tooltip": null,
       "layout": "IPY_MODEL_1e1b1182c1b74f93b33d2806a9c7b5fb",
       "placeholder": "​",
       "style": "IPY_MODEL_c1c0518c1f534437a0ab5d1f3cb26504",
       "value": " 232k/232k [00:00&lt;00:00, 4.29MB/s]"
      }
     },
     "51f6c0a530fa4621b72d708cd1085dcf": {
      "model_module": "@jupyter-widgets/base",
      "model_module_version": "1.2.0",
      "model_name": "LayoutModel",
      "state": {
       "_model_module": "@jupyter-widgets/base",
       "_model_module_version": "1.2.0",
       "_model_name": "LayoutModel",
       "_view_count": null,
       "_view_module": "@jupyter-widgets/base",
       "_view_module_version": "1.2.0",
       "_view_name": "LayoutView",
       "align_content": null,
       "align_items": null,
       "align_self": null,
       "border": null,
       "bottom": null,
       "display": null,
       "flex": null,
       "flex_flow": null,
       "grid_area": null,
       "grid_auto_columns": null,
       "grid_auto_flow": null,
       "grid_auto_rows": null,
       "grid_column": null,
       "grid_gap": null,
       "grid_row": null,
       "grid_template_areas": null,
       "grid_template_columns": null,
       "grid_template_rows": null,
       "height": null,
       "justify_content": null,
       "justify_items": null,
       "left": null,
       "margin": null,
       "max_height": null,
       "max_width": null,
       "min_height": null,
       "min_width": null,
       "object_fit": null,
       "object_position": null,
       "order": null,
       "overflow": null,
       "overflow_x": null,
       "overflow_y": null,
       "padding": null,
       "right": null,
       "top": null,
       "visibility": null,
       "width": null
      }
     },
     "54a6b740d18449dd88f66493d9833c1f": {
      "model_module": "@jupyter-widgets/controls",
      "model_module_version": "1.5.0",
      "model_name": "ProgressStyleModel",
      "state": {
       "_model_module": "@jupyter-widgets/controls",
       "_model_module_version": "1.5.0",
       "_model_name": "ProgressStyleModel",
       "_view_count": null,
       "_view_module": "@jupyter-widgets/base",
       "_view_module_version": "1.2.0",
       "_view_name": "StyleView",
       "bar_color": null,
       "description_width": ""
      }
     },
     "581a5521b28d433688e308a66743a9b3": {
      "model_module": "@jupyter-widgets/controls",
      "model_module_version": "1.5.0",
      "model_name": "HTMLModel",
      "state": {
       "_dom_classes": [],
       "_model_module": "@jupyter-widgets/controls",
       "_model_module_version": "1.5.0",
       "_model_name": "HTMLModel",
       "_view_count": null,
       "_view_module": "@jupyter-widgets/controls",
       "_view_module_version": "1.5.0",
       "_view_name": "HTMLView",
       "description": "",
       "description_tooltip": null,
       "layout": "IPY_MODEL_dbd44f242ac447e1a4927e5297df4dbf",
       "placeholder": "​",
       "style": "IPY_MODEL_2daefdf5119c4140a01f59d3f7eb09e6",
       "value": " 48.0/48.0 [00:00&lt;00:00, 3.94kB/s]"
      }
     },
     "64ed41073d724dbd8c724f24ed69d13c": {
      "model_module": "@jupyter-widgets/base",
      "model_module_version": "1.2.0",
      "model_name": "LayoutModel",
      "state": {
       "_model_module": "@jupyter-widgets/base",
       "_model_module_version": "1.2.0",
       "_model_name": "LayoutModel",
       "_view_count": null,
       "_view_module": "@jupyter-widgets/base",
       "_view_module_version": "1.2.0",
       "_view_name": "LayoutView",
       "align_content": null,
       "align_items": null,
       "align_self": null,
       "border": null,
       "bottom": null,
       "display": null,
       "flex": null,
       "flex_flow": null,
       "grid_area": null,
       "grid_auto_columns": null,
       "grid_auto_flow": null,
       "grid_auto_rows": null,
       "grid_column": null,
       "grid_gap": null,
       "grid_row": null,
       "grid_template_areas": null,
       "grid_template_columns": null,
       "grid_template_rows": null,
       "height": null,
       "justify_content": null,
       "justify_items": null,
       "left": null,
       "margin": null,
       "max_height": null,
       "max_width": null,
       "min_height": null,
       "min_width": null,
       "object_fit": null,
       "object_position": null,
       "order": null,
       "overflow": null,
       "overflow_x": null,
       "overflow_y": null,
       "padding": null,
       "right": null,
       "top": null,
       "visibility": null,
       "width": null
      }
     },
     "6a076bfd5163495d8d6ffa25fee7d7c6": {
      "model_module": "@jupyter-widgets/controls",
      "model_module_version": "1.5.0",
      "model_name": "HTMLModel",
      "state": {
       "_dom_classes": [],
       "_model_module": "@jupyter-widgets/controls",
       "_model_module_version": "1.5.0",
       "_model_name": "HTMLModel",
       "_view_count": null,
       "_view_module": "@jupyter-widgets/controls",
       "_view_module_version": "1.5.0",
       "_view_name": "HTMLView",
       "description": "",
       "description_tooltip": null,
       "layout": "IPY_MODEL_1a3580a1d9a34b529948a11954eb0846",
       "placeholder": "​",
       "style": "IPY_MODEL_cff89f30f277489f885fb0eb4040e7a2",
       "value": "vocab.txt: 100%"
      }
     },
     "722745cd107e4f7c819bb2f44973df5d": {
      "model_module": "@jupyter-widgets/controls",
      "model_module_version": "1.5.0",
      "model_name": "HBoxModel",
      "state": {
       "_dom_classes": [],
       "_model_module": "@jupyter-widgets/controls",
       "_model_module_version": "1.5.0",
       "_model_name": "HBoxModel",
       "_view_count": null,
       "_view_module": "@jupyter-widgets/controls",
       "_view_module_version": "1.5.0",
       "_view_name": "HBoxView",
       "box_style": "",
       "children": [
        "IPY_MODEL_e9ecf194373d4647a9733fcd71ca7683",
        "IPY_MODEL_c7b3fa6e4d084a00b926560fc9950ef4",
        "IPY_MODEL_581a5521b28d433688e308a66743a9b3"
       ],
       "layout": "IPY_MODEL_a60d3b3ac602473f879ee8d783f77db3"
      }
     },
     "77af5b8b07ab4aa8a6dc6db5829c2238": {
      "model_module": "@jupyter-widgets/base",
      "model_module_version": "1.2.0",
      "model_name": "LayoutModel",
      "state": {
       "_model_module": "@jupyter-widgets/base",
       "_model_module_version": "1.2.0",
       "_model_name": "LayoutModel",
       "_view_count": null,
       "_view_module": "@jupyter-widgets/base",
       "_view_module_version": "1.2.0",
       "_view_name": "LayoutView",
       "align_content": null,
       "align_items": null,
       "align_self": null,
       "border": null,
       "bottom": null,
       "display": null,
       "flex": null,
       "flex_flow": null,
       "grid_area": null,
       "grid_auto_columns": null,
       "grid_auto_flow": null,
       "grid_auto_rows": null,
       "grid_column": null,
       "grid_gap": null,
       "grid_row": null,
       "grid_template_areas": null,
       "grid_template_columns": null,
       "grid_template_rows": null,
       "height": null,
       "justify_content": null,
       "justify_items": null,
       "left": null,
       "margin": null,
       "max_height": null,
       "max_width": null,
       "min_height": null,
       "min_width": null,
       "object_fit": null,
       "object_position": null,
       "order": null,
       "overflow": null,
       "overflow_x": null,
       "overflow_y": null,
       "padding": null,
       "right": null,
       "top": null,
       "visibility": null,
       "width": null
      }
     },
     "82540ac407484cfb87726963f9c66e8c": {
      "model_module": "@jupyter-widgets/base",
      "model_module_version": "1.2.0",
      "model_name": "LayoutModel",
      "state": {
       "_model_module": "@jupyter-widgets/base",
       "_model_module_version": "1.2.0",
       "_model_name": "LayoutModel",
       "_view_count": null,
       "_view_module": "@jupyter-widgets/base",
       "_view_module_version": "1.2.0",
       "_view_name": "LayoutView",
       "align_content": null,
       "align_items": null,
       "align_self": null,
       "border": null,
       "bottom": null,
       "display": null,
       "flex": null,
       "flex_flow": null,
       "grid_area": null,
       "grid_auto_columns": null,
       "grid_auto_flow": null,
       "grid_auto_rows": null,
       "grid_column": null,
       "grid_gap": null,
       "grid_row": null,
       "grid_template_areas": null,
       "grid_template_columns": null,
       "grid_template_rows": null,
       "height": null,
       "justify_content": null,
       "justify_items": null,
       "left": null,
       "margin": null,
       "max_height": null,
       "max_width": null,
       "min_height": null,
       "min_width": null,
       "object_fit": null,
       "object_position": null,
       "order": null,
       "overflow": null,
       "overflow_x": null,
       "overflow_y": null,
       "padding": null,
       "right": null,
       "top": null,
       "visibility": null,
       "width": null
      }
     },
     "8b1436486617466086430c9224e85f61": {
      "model_module": "@jupyter-widgets/controls",
      "model_module_version": "1.5.0",
      "model_name": "HBoxModel",
      "state": {
       "_dom_classes": [],
       "_model_module": "@jupyter-widgets/controls",
       "_model_module_version": "1.5.0",
       "_model_name": "HBoxModel",
       "_view_count": null,
       "_view_module": "@jupyter-widgets/controls",
       "_view_module_version": "1.5.0",
       "_view_name": "HBoxView",
       "box_style": "",
       "children": [
        "IPY_MODEL_6a076bfd5163495d8d6ffa25fee7d7c6",
        "IPY_MODEL_d24c5c1661aa445c85afb0f3c99d0004",
        "IPY_MODEL_508b528b4304464ea6ec09b073aa6722"
       ],
       "layout": "IPY_MODEL_b3135b2f2dd140e483d7ea261ed13f60"
      }
     },
     "8e991b4a917f454eb116d18fc7af5e8b": {
      "model_module": "@jupyter-widgets/controls",
      "model_module_version": "1.5.0",
      "model_name": "DescriptionStyleModel",
      "state": {
       "_model_module": "@jupyter-widgets/controls",
       "_model_module_version": "1.5.0",
       "_model_name": "DescriptionStyleModel",
       "_view_count": null,
       "_view_module": "@jupyter-widgets/base",
       "_view_module_version": "1.2.0",
       "_view_name": "StyleView",
       "description_width": ""
      }
     },
     "8f975757fd184c33b7a19e847947c141": {
      "model_module": "@jupyter-widgets/controls",
      "model_module_version": "1.5.0",
      "model_name": "DescriptionStyleModel",
      "state": {
       "_model_module": "@jupyter-widgets/controls",
       "_model_module_version": "1.5.0",
       "_model_name": "DescriptionStyleModel",
       "_view_count": null,
       "_view_module": "@jupyter-widgets/base",
       "_view_module_version": "1.2.0",
       "_view_name": "StyleView",
       "description_width": ""
      }
     },
     "9004e346873a47e7b664705eb72cc412": {
      "model_module": "@jupyter-widgets/controls",
      "model_module_version": "1.5.0",
      "model_name": "DescriptionStyleModel",
      "state": {
       "_model_module": "@jupyter-widgets/controls",
       "_model_module_version": "1.5.0",
       "_model_name": "DescriptionStyleModel",
       "_view_count": null,
       "_view_module": "@jupyter-widgets/base",
       "_view_module_version": "1.2.0",
       "_view_name": "StyleView",
       "description_width": ""
      }
     },
     "92a407f8efa741f1b09669f72ae16cb4": {
      "model_module": "@jupyter-widgets/base",
      "model_module_version": "1.2.0",
      "model_name": "LayoutModel",
      "state": {
       "_model_module": "@jupyter-widgets/base",
       "_model_module_version": "1.2.0",
       "_model_name": "LayoutModel",
       "_view_count": null,
       "_view_module": "@jupyter-widgets/base",
       "_view_module_version": "1.2.0",
       "_view_name": "LayoutView",
       "align_content": null,
       "align_items": null,
       "align_self": null,
       "border": null,
       "bottom": null,
       "display": null,
       "flex": null,
       "flex_flow": null,
       "grid_area": null,
       "grid_auto_columns": null,
       "grid_auto_flow": null,
       "grid_auto_rows": null,
       "grid_column": null,
       "grid_gap": null,
       "grid_row": null,
       "grid_template_areas": null,
       "grid_template_columns": null,
       "grid_template_rows": null,
       "height": null,
       "justify_content": null,
       "justify_items": null,
       "left": null,
       "margin": null,
       "max_height": null,
       "max_width": null,
       "min_height": null,
       "min_width": null,
       "object_fit": null,
       "object_position": null,
       "order": null,
       "overflow": null,
       "overflow_x": null,
       "overflow_y": null,
       "padding": null,
       "right": null,
       "top": null,
       "visibility": null,
       "width": null
      }
     },
     "92f437647b6a4918b9505223c5aaf790": {
      "model_module": "@jupyter-widgets/controls",
      "model_module_version": "1.5.0",
      "model_name": "HTMLModel",
      "state": {
       "_dom_classes": [],
       "_model_module": "@jupyter-widgets/controls",
       "_model_module_version": "1.5.0",
       "_model_name": "HTMLModel",
       "_view_count": null,
       "_view_module": "@jupyter-widgets/controls",
       "_view_module_version": "1.5.0",
       "_view_name": "HTMLView",
       "description": "",
       "description_tooltip": null,
       "layout": "IPY_MODEL_77af5b8b07ab4aa8a6dc6db5829c2238",
       "placeholder": "​",
       "style": "IPY_MODEL_dfd321896b2f4fd592f3905e3d3a41bd",
       "value": "config.json: 100%"
      }
     },
     "997c59e7676449e9af17f620e63f9dbf": {
      "model_module": "@jupyter-widgets/base",
      "model_module_version": "1.2.0",
      "model_name": "LayoutModel",
      "state": {
       "_model_module": "@jupyter-widgets/base",
       "_model_module_version": "1.2.0",
       "_model_name": "LayoutModel",
       "_view_count": null,
       "_view_module": "@jupyter-widgets/base",
       "_view_module_version": "1.2.0",
       "_view_name": "LayoutView",
       "align_content": null,
       "align_items": null,
       "align_self": null,
       "border": null,
       "bottom": null,
       "display": null,
       "flex": null,
       "flex_flow": null,
       "grid_area": null,
       "grid_auto_columns": null,
       "grid_auto_flow": null,
       "grid_auto_rows": null,
       "grid_column": null,
       "grid_gap": null,
       "grid_row": null,
       "grid_template_areas": null,
       "grid_template_columns": null,
       "grid_template_rows": null,
       "height": null,
       "justify_content": null,
       "justify_items": null,
       "left": null,
       "margin": null,
       "max_height": null,
       "max_width": null,
       "min_height": null,
       "min_width": null,
       "object_fit": null,
       "object_position": null,
       "order": null,
       "overflow": null,
       "overflow_x": null,
       "overflow_y": null,
       "padding": null,
       "right": null,
       "top": null,
       "visibility": null,
       "width": null
      }
     },
     "9a3db87293674593a45c3fcad1a0bf28": {
      "model_module": "@jupyter-widgets/base",
      "model_module_version": "1.2.0",
      "model_name": "LayoutModel",
      "state": {
       "_model_module": "@jupyter-widgets/base",
       "_model_module_version": "1.2.0",
       "_model_name": "LayoutModel",
       "_view_count": null,
       "_view_module": "@jupyter-widgets/base",
       "_view_module_version": "1.2.0",
       "_view_name": "LayoutView",
       "align_content": null,
       "align_items": null,
       "align_self": null,
       "border": null,
       "bottom": null,
       "display": null,
       "flex": null,
       "flex_flow": null,
       "grid_area": null,
       "grid_auto_columns": null,
       "grid_auto_flow": null,
       "grid_auto_rows": null,
       "grid_column": null,
       "grid_gap": null,
       "grid_row": null,
       "grid_template_areas": null,
       "grid_template_columns": null,
       "grid_template_rows": null,
       "height": null,
       "justify_content": null,
       "justify_items": null,
       "left": null,
       "margin": null,
       "max_height": null,
       "max_width": null,
       "min_height": null,
       "min_width": null,
       "object_fit": null,
       "object_position": null,
       "order": null,
       "overflow": null,
       "overflow_x": null,
       "overflow_y": null,
       "padding": null,
       "right": null,
       "top": null,
       "visibility": null,
       "width": null
      }
     },
     "9ae0331d3f5c46ce8a94fc0363b669f3": {
      "model_module": "@jupyter-widgets/controls",
      "model_module_version": "1.5.0",
      "model_name": "HTMLModel",
      "state": {
       "_dom_classes": [],
       "_model_module": "@jupyter-widgets/controls",
       "_model_module_version": "1.5.0",
       "_model_name": "HTMLModel",
       "_view_count": null,
       "_view_module": "@jupyter-widgets/controls",
       "_view_module_version": "1.5.0",
       "_view_name": "HTMLView",
       "description": "",
       "description_tooltip": null,
       "layout": "IPY_MODEL_92a407f8efa741f1b09669f72ae16cb4",
       "placeholder": "​",
       "style": "IPY_MODEL_8f975757fd184c33b7a19e847947c141",
       "value": " 440M/440M [00:02&lt;00:00, 197MB/s]"
      }
     },
     "a60d3b3ac602473f879ee8d783f77db3": {
      "model_module": "@jupyter-widgets/base",
      "model_module_version": "1.2.0",
      "model_name": "LayoutModel",
      "state": {
       "_model_module": "@jupyter-widgets/base",
       "_model_module_version": "1.2.0",
       "_model_name": "LayoutModel",
       "_view_count": null,
       "_view_module": "@jupyter-widgets/base",
       "_view_module_version": "1.2.0",
       "_view_name": "LayoutView",
       "align_content": null,
       "align_items": null,
       "align_self": null,
       "border": null,
       "bottom": null,
       "display": null,
       "flex": null,
       "flex_flow": null,
       "grid_area": null,
       "grid_auto_columns": null,
       "grid_auto_flow": null,
       "grid_auto_rows": null,
       "grid_column": null,
       "grid_gap": null,
       "grid_row": null,
       "grid_template_areas": null,
       "grid_template_columns": null,
       "grid_template_rows": null,
       "height": null,
       "justify_content": null,
       "justify_items": null,
       "left": null,
       "margin": null,
       "max_height": null,
       "max_width": null,
       "min_height": null,
       "min_width": null,
       "object_fit": null,
       "object_position": null,
       "order": null,
       "overflow": null,
       "overflow_x": null,
       "overflow_y": null,
       "padding": null,
       "right": null,
       "top": null,
       "visibility": null,
       "width": null
      }
     },
     "a808271d67614868bdc0c0812003a1d6": {
      "model_module": "@jupyter-widgets/controls",
      "model_module_version": "1.5.0",
      "model_name": "FloatProgressModel",
      "state": {
       "_dom_classes": [],
       "_model_module": "@jupyter-widgets/controls",
       "_model_module_version": "1.5.0",
       "_model_name": "FloatProgressModel",
       "_view_count": null,
       "_view_module": "@jupyter-widgets/controls",
       "_view_module_version": "1.5.0",
       "_view_name": "ProgressView",
       "bar_style": "success",
       "description": "",
       "description_tooltip": null,
       "layout": "IPY_MODEL_3378a3162aa748869bc8a76ae015dbf7",
       "max": 570,
       "min": 0,
       "orientation": "horizontal",
       "style": "IPY_MODEL_f1948858a25043ccb2d4f4e1ded8f0e4",
       "value": 570
      }
     },
     "ad10f38ecf5147ad93fce0cf32881ccb": {
      "model_module": "@jupyter-widgets/base",
      "model_module_version": "1.2.0",
      "model_name": "LayoutModel",
      "state": {
       "_model_module": "@jupyter-widgets/base",
       "_model_module_version": "1.2.0",
       "_model_name": "LayoutModel",
       "_view_count": null,
       "_view_module": "@jupyter-widgets/base",
       "_view_module_version": "1.2.0",
       "_view_name": "LayoutView",
       "align_content": null,
       "align_items": null,
       "align_self": null,
       "border": null,
       "bottom": null,
       "display": null,
       "flex": null,
       "flex_flow": null,
       "grid_area": null,
       "grid_auto_columns": null,
       "grid_auto_flow": null,
       "grid_auto_rows": null,
       "grid_column": null,
       "grid_gap": null,
       "grid_row": null,
       "grid_template_areas": null,
       "grid_template_columns": null,
       "grid_template_rows": null,
       "height": null,
       "justify_content": null,
       "justify_items": null,
       "left": null,
       "margin": null,
       "max_height": null,
       "max_width": null,
       "min_height": null,
       "min_width": null,
       "object_fit": null,
       "object_position": null,
       "order": null,
       "overflow": null,
       "overflow_x": null,
       "overflow_y": null,
       "padding": null,
       "right": null,
       "top": null,
       "visibility": null,
       "width": null
      }
     },
     "b3135b2f2dd140e483d7ea261ed13f60": {
      "model_module": "@jupyter-widgets/base",
      "model_module_version": "1.2.0",
      "model_name": "LayoutModel",
      "state": {
       "_model_module": "@jupyter-widgets/base",
       "_model_module_version": "1.2.0",
       "_model_name": "LayoutModel",
       "_view_count": null,
       "_view_module": "@jupyter-widgets/base",
       "_view_module_version": "1.2.0",
       "_view_name": "LayoutView",
       "align_content": null,
       "align_items": null,
       "align_self": null,
       "border": null,
       "bottom": null,
       "display": null,
       "flex": null,
       "flex_flow": null,
       "grid_area": null,
       "grid_auto_columns": null,
       "grid_auto_flow": null,
       "grid_auto_rows": null,
       "grid_column": null,
       "grid_gap": null,
       "grid_row": null,
       "grid_template_areas": null,
       "grid_template_columns": null,
       "grid_template_rows": null,
       "height": null,
       "justify_content": null,
       "justify_items": null,
       "left": null,
       "margin": null,
       "max_height": null,
       "max_width": null,
       "min_height": null,
       "min_width": null,
       "object_fit": null,
       "object_position": null,
       "order": null,
       "overflow": null,
       "overflow_x": null,
       "overflow_y": null,
       "padding": null,
       "right": null,
       "top": null,
       "visibility": null,
       "width": null
      }
     },
     "c1c0518c1f534437a0ab5d1f3cb26504": {
      "model_module": "@jupyter-widgets/controls",
      "model_module_version": "1.5.0",
      "model_name": "DescriptionStyleModel",
      "state": {
       "_model_module": "@jupyter-widgets/controls",
       "_model_module_version": "1.5.0",
       "_model_name": "DescriptionStyleModel",
       "_view_count": null,
       "_view_module": "@jupyter-widgets/base",
       "_view_module_version": "1.2.0",
       "_view_name": "StyleView",
       "description_width": ""
      }
     },
     "c72a26bc53ed44efb9b4d9b12db426c6": {
      "model_module": "@jupyter-widgets/controls",
      "model_module_version": "1.5.0",
      "model_name": "FloatProgressModel",
      "state": {
       "_dom_classes": [],
       "_model_module": "@jupyter-widgets/controls",
       "_model_module_version": "1.5.0",
       "_model_name": "FloatProgressModel",
       "_view_count": null,
       "_view_module": "@jupyter-widgets/controls",
       "_view_module_version": "1.5.0",
       "_view_name": "ProgressView",
       "bar_style": "success",
       "description": "",
       "description_tooltip": null,
       "layout": "IPY_MODEL_997c59e7676449e9af17f620e63f9dbf",
       "max": 466062,
       "min": 0,
       "orientation": "horizontal",
       "style": "IPY_MODEL_4d4f24494d7d40d0880dca78a61ebfda",
       "value": 466062
      }
     },
     "c7b3fa6e4d084a00b926560fc9950ef4": {
      "model_module": "@jupyter-widgets/controls",
      "model_module_version": "1.5.0",
      "model_name": "FloatProgressModel",
      "state": {
       "_dom_classes": [],
       "_model_module": "@jupyter-widgets/controls",
       "_model_module_version": "1.5.0",
       "_model_name": "FloatProgressModel",
       "_view_count": null,
       "_view_module": "@jupyter-widgets/controls",
       "_view_module_version": "1.5.0",
       "_view_name": "ProgressView",
       "bar_style": "success",
       "description": "",
       "description_tooltip": null,
       "layout": "IPY_MODEL_64ed41073d724dbd8c724f24ed69d13c",
       "max": 48,
       "min": 0,
       "orientation": "horizontal",
       "style": "IPY_MODEL_54a6b740d18449dd88f66493d9833c1f",
       "value": 48
      }
     },
     "c812ac6ff2904ba5a27cc6bb7f569a85": {
      "model_module": "@jupyter-widgets/controls",
      "model_module_version": "1.5.0",
      "model_name": "HBoxModel",
      "state": {
       "_dom_classes": [],
       "_model_module": "@jupyter-widgets/controls",
       "_model_module_version": "1.5.0",
       "_model_name": "HBoxModel",
       "_view_count": null,
       "_view_module": "@jupyter-widgets/controls",
       "_view_module_version": "1.5.0",
       "_view_name": "HBoxView",
       "box_style": "",
       "children": [
        "IPY_MODEL_92f437647b6a4918b9505223c5aaf790",
        "IPY_MODEL_a808271d67614868bdc0c0812003a1d6",
        "IPY_MODEL_ee03b1d360f44109a08b5878585a73d4"
       ],
       "layout": "IPY_MODEL_f8d861c23aee4eddad2345da2ac7b541"
      }
     },
     "ca09d1d0306245c3946a800c179f1f12": {
      "model_module": "@jupyter-widgets/controls",
      "model_module_version": "1.5.0",
      "model_name": "DescriptionStyleModel",
      "state": {
       "_model_module": "@jupyter-widgets/controls",
       "_model_module_version": "1.5.0",
       "_model_name": "DescriptionStyleModel",
       "_view_count": null,
       "_view_module": "@jupyter-widgets/base",
       "_view_module_version": "1.2.0",
       "_view_name": "StyleView",
       "description_width": ""
      }
     },
     "cff89f30f277489f885fb0eb4040e7a2": {
      "model_module": "@jupyter-widgets/controls",
      "model_module_version": "1.5.0",
      "model_name": "DescriptionStyleModel",
      "state": {
       "_model_module": "@jupyter-widgets/controls",
       "_model_module_version": "1.5.0",
       "_model_name": "DescriptionStyleModel",
       "_view_count": null,
       "_view_module": "@jupyter-widgets/base",
       "_view_module_version": "1.2.0",
       "_view_name": "StyleView",
       "description_width": ""
      }
     },
     "d0a3da9f3b8c46099d7b8cf65c1677db": {
      "model_module": "@jupyter-widgets/controls",
      "model_module_version": "1.5.0",
      "model_name": "ProgressStyleModel",
      "state": {
       "_model_module": "@jupyter-widgets/controls",
       "_model_module_version": "1.5.0",
       "_model_name": "ProgressStyleModel",
       "_view_count": null,
       "_view_module": "@jupyter-widgets/base",
       "_view_module_version": "1.2.0",
       "_view_name": "StyleView",
       "bar_color": null,
       "description_width": ""
      }
     },
     "d24c5c1661aa445c85afb0f3c99d0004": {
      "model_module": "@jupyter-widgets/controls",
      "model_module_version": "1.5.0",
      "model_name": "FloatProgressModel",
      "state": {
       "_dom_classes": [],
       "_model_module": "@jupyter-widgets/controls",
       "_model_module_version": "1.5.0",
       "_model_name": "FloatProgressModel",
       "_view_count": null,
       "_view_module": "@jupyter-widgets/controls",
       "_view_module_version": "1.5.0",
       "_view_name": "ProgressView",
       "bar_style": "success",
       "description": "",
       "description_tooltip": null,
       "layout": "IPY_MODEL_130d5b8d55b0471e857f12c2ac174ef8",
       "max": 231508,
       "min": 0,
       "orientation": "horizontal",
       "style": "IPY_MODEL_3a132254523f4154a58d16769d85bf11",
       "value": 231508
      }
     },
     "dbd44f242ac447e1a4927e5297df4dbf": {
      "model_module": "@jupyter-widgets/base",
      "model_module_version": "1.2.0",
      "model_name": "LayoutModel",
      "state": {
       "_model_module": "@jupyter-widgets/base",
       "_model_module_version": "1.2.0",
       "_model_name": "LayoutModel",
       "_view_count": null,
       "_view_module": "@jupyter-widgets/base",
       "_view_module_version": "1.2.0",
       "_view_name": "LayoutView",
       "align_content": null,
       "align_items": null,
       "align_self": null,
       "border": null,
       "bottom": null,
       "display": null,
       "flex": null,
       "flex_flow": null,
       "grid_area": null,
       "grid_auto_columns": null,
       "grid_auto_flow": null,
       "grid_auto_rows": null,
       "grid_column": null,
       "grid_gap": null,
       "grid_row": null,
       "grid_template_areas": null,
       "grid_template_columns": null,
       "grid_template_rows": null,
       "height": null,
       "justify_content": null,
       "justify_items": null,
       "left": null,
       "margin": null,
       "max_height": null,
       "max_width": null,
       "min_height": null,
       "min_width": null,
       "object_fit": null,
       "object_position": null,
       "order": null,
       "overflow": null,
       "overflow_x": null,
       "overflow_y": null,
       "padding": null,
       "right": null,
       "top": null,
       "visibility": null,
       "width": null
      }
     },
     "dd43e7de31864bd783a62027f215763a": {
      "model_module": "@jupyter-widgets/controls",
      "model_module_version": "1.5.0",
      "model_name": "HTMLModel",
      "state": {
       "_dom_classes": [],
       "_model_module": "@jupyter-widgets/controls",
       "_model_module_version": "1.5.0",
       "_model_name": "HTMLModel",
       "_view_count": null,
       "_view_module": "@jupyter-widgets/controls",
       "_view_module_version": "1.5.0",
       "_view_name": "HTMLView",
       "description": "",
       "description_tooltip": null,
       "layout": "IPY_MODEL_3403d160df3649b5a8489ad8a8158dc0",
       "placeholder": "​",
       "style": "IPY_MODEL_103a6a271883443197e2a95cc8c359cf",
       "value": " 466k/466k [00:00&lt;00:00, 6.11MB/s]"
      }
     },
     "dfd321896b2f4fd592f3905e3d3a41bd": {
      "model_module": "@jupyter-widgets/controls",
      "model_module_version": "1.5.0",
      "model_name": "DescriptionStyleModel",
      "state": {
       "_model_module": "@jupyter-widgets/controls",
       "_model_module_version": "1.5.0",
       "_model_name": "DescriptionStyleModel",
       "_view_count": null,
       "_view_module": "@jupyter-widgets/base",
       "_view_module_version": "1.2.0",
       "_view_name": "StyleView",
       "description_width": ""
      }
     },
     "e9ecf194373d4647a9733fcd71ca7683": {
      "model_module": "@jupyter-widgets/controls",
      "model_module_version": "1.5.0",
      "model_name": "HTMLModel",
      "state": {
       "_dom_classes": [],
       "_model_module": "@jupyter-widgets/controls",
       "_model_module_version": "1.5.0",
       "_model_name": "HTMLModel",
       "_view_count": null,
       "_view_module": "@jupyter-widgets/controls",
       "_view_module_version": "1.5.0",
       "_view_name": "HTMLView",
       "description": "",
       "description_tooltip": null,
       "layout": "IPY_MODEL_51f6c0a530fa4621b72d708cd1085dcf",
       "placeholder": "​",
       "style": "IPY_MODEL_8e991b4a917f454eb116d18fc7af5e8b",
       "value": "tokenizer_config.json: 100%"
      }
     },
     "ee03b1d360f44109a08b5878585a73d4": {
      "model_module": "@jupyter-widgets/controls",
      "model_module_version": "1.5.0",
      "model_name": "HTMLModel",
      "state": {
       "_dom_classes": [],
       "_model_module": "@jupyter-widgets/controls",
       "_model_module_version": "1.5.0",
       "_model_name": "HTMLModel",
       "_view_count": null,
       "_view_module": "@jupyter-widgets/controls",
       "_view_module_version": "1.5.0",
       "_view_name": "HTMLView",
       "description": "",
       "description_tooltip": null,
       "layout": "IPY_MODEL_ad10f38ecf5147ad93fce0cf32881ccb",
       "placeholder": "​",
       "style": "IPY_MODEL_ca09d1d0306245c3946a800c179f1f12",
       "value": " 570/570 [00:00&lt;00:00, 61.6kB/s]"
      }
     },
     "f0771b6e653646da901f285cb5743254": {
      "model_module": "@jupyter-widgets/base",
      "model_module_version": "1.2.0",
      "model_name": "LayoutModel",
      "state": {
       "_model_module": "@jupyter-widgets/base",
       "_model_module_version": "1.2.0",
       "_model_name": "LayoutModel",
       "_view_count": null,
       "_view_module": "@jupyter-widgets/base",
       "_view_module_version": "1.2.0",
       "_view_name": "LayoutView",
       "align_content": null,
       "align_items": null,
       "align_self": null,
       "border": null,
       "bottom": null,
       "display": null,
       "flex": null,
       "flex_flow": null,
       "grid_area": null,
       "grid_auto_columns": null,
       "grid_auto_flow": null,
       "grid_auto_rows": null,
       "grid_column": null,
       "grid_gap": null,
       "grid_row": null,
       "grid_template_areas": null,
       "grid_template_columns": null,
       "grid_template_rows": null,
       "height": null,
       "justify_content": null,
       "justify_items": null,
       "left": null,
       "margin": null,
       "max_height": null,
       "max_width": null,
       "min_height": null,
       "min_width": null,
       "object_fit": null,
       "object_position": null,
       "order": null,
       "overflow": null,
       "overflow_x": null,
       "overflow_y": null,
       "padding": null,
       "right": null,
       "top": null,
       "visibility": null,
       "width": null
      }
     },
     "f1948858a25043ccb2d4f4e1ded8f0e4": {
      "model_module": "@jupyter-widgets/controls",
      "model_module_version": "1.5.0",
      "model_name": "ProgressStyleModel",
      "state": {
       "_model_module": "@jupyter-widgets/controls",
       "_model_module_version": "1.5.0",
       "_model_name": "ProgressStyleModel",
       "_view_count": null,
       "_view_module": "@jupyter-widgets/base",
       "_view_module_version": "1.2.0",
       "_view_name": "StyleView",
       "bar_color": null,
       "description_width": ""
      }
     },
     "f88fe44ce9ca4f7a8195f69b02e625d6": {
      "model_module": "@jupyter-widgets/controls",
      "model_module_version": "1.5.0",
      "model_name": "HTMLModel",
      "state": {
       "_dom_classes": [],
       "_model_module": "@jupyter-widgets/controls",
       "_model_module_version": "1.5.0",
       "_model_name": "HTMLModel",
       "_view_count": null,
       "_view_module": "@jupyter-widgets/controls",
       "_view_module_version": "1.5.0",
       "_view_name": "HTMLView",
       "description": "",
       "description_tooltip": null,
       "layout": "IPY_MODEL_36a14e344b554157aa992a742af2bfb3",
       "placeholder": "​",
       "style": "IPY_MODEL_3bb36e2e00204c95b23e8fafb20b405f",
       "value": "tokenizer.json: 100%"
      }
     },
     "f8d861c23aee4eddad2345da2ac7b541": {
      "model_module": "@jupyter-widgets/base",
      "model_module_version": "1.2.0",
      "model_name": "LayoutModel",
      "state": {
       "_model_module": "@jupyter-widgets/base",
       "_model_module_version": "1.2.0",
       "_model_name": "LayoutModel",
       "_view_count": null,
       "_view_module": "@jupyter-widgets/base",
       "_view_module_version": "1.2.0",
       "_view_name": "LayoutView",
       "align_content": null,
       "align_items": null,
       "align_self": null,
       "border": null,
       "bottom": null,
       "display": null,
       "flex": null,
       "flex_flow": null,
       "grid_area": null,
       "grid_auto_columns": null,
       "grid_auto_flow": null,
       "grid_auto_rows": null,
       "grid_column": null,
       "grid_gap": null,
       "grid_row": null,
       "grid_template_areas": null,
       "grid_template_columns": null,
       "grid_template_rows": null,
       "height": null,
       "justify_content": null,
       "justify_items": null,
       "left": null,
       "margin": null,
       "max_height": null,
       "max_width": null,
       "min_height": null,
       "min_width": null,
       "object_fit": null,
       "object_position": null,
       "order": null,
       "overflow": null,
       "overflow_x": null,
       "overflow_y": null,
       "padding": null,
       "right": null,
       "top": null,
       "visibility": null,
       "width": null
      }
     }
    },
    "version_major": 2,
    "version_minor": 0
   }
  }
 },
 "nbformat": 4,
 "nbformat_minor": 5
}
